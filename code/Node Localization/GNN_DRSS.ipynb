{
 "cells": [
  {
   "cell_type": "markdown",
   "metadata": {},
   "source": [
    "### Import required libraries"
   ]
  },
  {
   "cell_type": "code",
   "execution_count": 2,
   "metadata": {
    "colab": {
     "base_uri": "https://localhost:8080/"
    },
    "execution": {
     "iopub.execute_input": "2024-04-16T16:24:57.722354Z",
     "iopub.status.busy": "2024-04-16T16:24:57.721200Z",
     "iopub.status.idle": "2024-04-16T16:24:57.728492Z",
     "shell.execute_reply": "2024-04-16T16:24:57.727541Z",
     "shell.execute_reply.started": "2024-04-16T16:24:57.722320Z"
    },
    "id": "pqrlyFN1AtXI",
    "outputId": "850011fd-9eb1-4afc-8ba2-1416f4801c05"
   },
   "outputs": [],
   "source": [
    "import random\n",
    "import numpy as np\n",
    "import pandas as pd\n",
    "\n",
    "import matplotlib.pyplot as plt\n",
    "\n",
    "import torch\n",
    "import torch.nn as nn\n",
    "import torch.nn.functional as F\n",
    "from torch.nn import Sequential as Seq, Linear, ReLU\n",
    "\n",
    "from sklearn.svm import SVC\n",
    "\n",
    "from sklearn.neural_network import MLPClassifier\n",
    "from sklearn.metrics import accuracy_score, mean_squared_error\n",
    "from sklearn.neighbors import KNeighborsClassifier\n",
    "from sklearn.preprocessing import StandardScaler, MinMaxScaler, OneHotEncoder, OrdinalEncoder, Normalizer"
   ]
  },
  {
   "cell_type": "code",
   "execution_count": 3,
   "metadata": {
    "execution": {
     "iopub.execute_input": "2024-04-16T16:24:57.730222Z",
     "iopub.status.busy": "2024-04-16T16:24:57.729936Z",
     "iopub.status.idle": "2024-04-16T17:19:02.762282Z",
     "shell.execute_reply": "2024-04-16T17:19:02.761243Z",
     "shell.execute_reply.started": "2024-04-16T16:24:57.730197Z"
    }
   },
   "outputs": [
    {
     "name": "stdout",
     "output_type": "stream",
     "text": [
      "Collecting torch_geometric\n",
      "  Downloading torch_geometric-2.5.2-py3-none-any.whl.metadata (64 kB)\n",
      "\u001b[2K     \u001b[90m━━━━━━━━━━━━━━━━━━━━━━━━━━━━━━━━━━━━━━━━\u001b[0m \u001b[32m64.2/64.2 kB\u001b[0m \u001b[31m2.4 MB/s\u001b[0m eta \u001b[36m0:00:00\u001b[0m\n",
      "\u001b[?25hRequirement already satisfied: tqdm in /opt/conda/lib/python3.10/site-packages (from torch_geometric) (4.66.1)\n",
      "Requirement already satisfied: numpy in /opt/conda/lib/python3.10/site-packages (from torch_geometric) (1.26.4)\n",
      "Requirement already satisfied: scipy in /opt/conda/lib/python3.10/site-packages (from torch_geometric) (1.11.4)\n",
      "Requirement already satisfied: fsspec in /opt/conda/lib/python3.10/site-packages (from torch_geometric) (2024.2.0)\n",
      "Requirement already satisfied: jinja2 in /opt/conda/lib/python3.10/site-packages (from torch_geometric) (3.1.2)\n",
      "Requirement already satisfied: aiohttp in /opt/conda/lib/python3.10/site-packages (from torch_geometric) (3.9.1)\n",
      "Requirement already satisfied: requests in /opt/conda/lib/python3.10/site-packages (from torch_geometric) (2.31.0)\n",
      "Requirement already satisfied: pyparsing in /opt/conda/lib/python3.10/site-packages (from torch_geometric) (3.1.1)\n",
      "Requirement already satisfied: scikit-learn in /opt/conda/lib/python3.10/site-packages (from torch_geometric) (1.2.2)\n",
      "Requirement already satisfied: psutil>=5.8.0 in /opt/conda/lib/python3.10/site-packages (from torch_geometric) (5.9.3)\n",
      "Requirement already satisfied: attrs>=17.3.0 in /opt/conda/lib/python3.10/site-packages (from aiohttp->torch_geometric) (23.2.0)\n",
      "Requirement already satisfied: multidict<7.0,>=4.5 in /opt/conda/lib/python3.10/site-packages (from aiohttp->torch_geometric) (6.0.4)\n",
      "Requirement already satisfied: yarl<2.0,>=1.0 in /opt/conda/lib/python3.10/site-packages (from aiohttp->torch_geometric) (1.9.3)\n",
      "Requirement already satisfied: frozenlist>=1.1.1 in /opt/conda/lib/python3.10/site-packages (from aiohttp->torch_geometric) (1.4.1)\n",
      "Requirement already satisfied: aiosignal>=1.1.2 in /opt/conda/lib/python3.10/site-packages (from aiohttp->torch_geometric) (1.3.1)\n",
      "Requirement already satisfied: async-timeout<5.0,>=4.0 in /opt/conda/lib/python3.10/site-packages (from aiohttp->torch_geometric) (4.0.3)\n",
      "Requirement already satisfied: MarkupSafe>=2.0 in /opt/conda/lib/python3.10/site-packages (from jinja2->torch_geometric) (2.1.3)\n",
      "Requirement already satisfied: charset-normalizer<4,>=2 in /opt/conda/lib/python3.10/site-packages (from requests->torch_geometric) (3.3.2)\n",
      "Requirement already satisfied: idna<4,>=2.5 in /opt/conda/lib/python3.10/site-packages (from requests->torch_geometric) (3.6)\n",
      "Requirement already satisfied: urllib3<3,>=1.21.1 in /opt/conda/lib/python3.10/site-packages (from requests->torch_geometric) (1.26.18)\n",
      "Requirement already satisfied: certifi>=2017.4.17 in /opt/conda/lib/python3.10/site-packages (from requests->torch_geometric) (2024.2.2)\n",
      "Requirement already satisfied: joblib>=1.1.1 in /opt/conda/lib/python3.10/site-packages (from scikit-learn->torch_geometric) (1.3.2)\n",
      "Requirement already satisfied: threadpoolctl>=2.0.0 in /opt/conda/lib/python3.10/site-packages (from scikit-learn->torch_geometric) (3.2.0)\n",
      "Downloading torch_geometric-2.5.2-py3-none-any.whl (1.1 MB)\n",
      "\u001b[2K   \u001b[90m━━━━━━━━━━━━━━━━━━━━━━━━━━━━━━━━━━━━━━━━\u001b[0m \u001b[32m1.1/1.1 MB\u001b[0m \u001b[31m19.3 MB/s\u001b[0m eta \u001b[36m0:00:00\u001b[0m00:01\u001b[0m\n",
      "\u001b[?25hInstalling collected packages: torch_geometric\n",
      "Successfully installed torch_geometric-2.5.2\n",
      "Looking in links: https://data.pyg.org/whl/torch-2.1.2.html\n",
      "Collecting torch_scatter\n",
      "  Downloading torch_scatter-2.1.2.tar.gz (108 kB)\n",
      "\u001b[2K     \u001b[90m━━━━━━━━━━━━━━━━━━━━━━━━━━━━━━━━━━━━━━━\u001b[0m \u001b[32m108.0/108.0 kB\u001b[0m \u001b[31m4.5 MB/s\u001b[0m eta \u001b[36m0:00:00\u001b[0m\n",
      "\u001b[?25h  Preparing metadata (setup.py) ... \u001b[?25ldone\n",
      "\u001b[?25hCollecting torch_sparse\n",
      "  Downloading torch_sparse-0.6.18.tar.gz (209 kB)\n",
      "\u001b[2K     \u001b[90m━━━━━━━━━━━━━━━━━━━━━━━━━━━━━━━━━━━━━━\u001b[0m \u001b[32m210.0/210.0 kB\u001b[0m \u001b[31m11.3 MB/s\u001b[0m eta \u001b[36m0:00:00\u001b[0m\n",
      "\u001b[?25h  Preparing metadata (setup.py) ... \u001b[?25ldone\n",
      "\u001b[?25hCollecting torch_cluster\n",
      "  Downloading torch_cluster-1.6.3.tar.gz (54 kB)\n",
      "\u001b[2K     \u001b[90m━━━━━━━━━━━━━━━━━━━━━━━━━━━━━━━━━━━━━━━━\u001b[0m \u001b[32m54.5/54.5 kB\u001b[0m \u001b[31m3.3 MB/s\u001b[0m eta \u001b[36m0:00:00\u001b[0m\n",
      "\u001b[?25h  Preparing metadata (setup.py) ... \u001b[?25ldone\n",
      "\u001b[?25hCollecting torch_spline_conv\n",
      "  Downloading torch_spline_conv-1.2.2.tar.gz (25 kB)\n",
      "  Preparing metadata (setup.py) ... \u001b[?25ldone\n",
      "\u001b[?25hRequirement already satisfied: scipy in /opt/conda/lib/python3.10/site-packages (from torch_sparse) (1.11.4)\n",
      "Requirement already satisfied: numpy<1.28.0,>=1.21.6 in /opt/conda/lib/python3.10/site-packages (from scipy->torch_sparse) (1.26.4)\n",
      "Building wheels for collected packages: torch_scatter, torch_sparse, torch_cluster, torch_spline_conv\n",
      "  Building wheel for torch_scatter (setup.py) ... \u001b[?25ldone\n",
      "\u001b[?25h  Created wheel for torch_scatter: filename=torch_scatter-2.1.2-cp310-cp310-linux_x86_64.whl size=3764948 sha256=ad16e050ba4af25d61d93562c67514d966cc0ac7bb73e5f8ae538bc1336ced3c\n",
      "  Stored in directory: /root/.cache/pip/wheels/92/f1/2b/3b46d54b134259f58c8363568569053248040859b1a145b3ce\n",
      "  Building wheel for torch_sparse (setup.py) ... \u001b[?25ldone\n",
      "\u001b[?25h  Created wheel for torch_sparse: filename=torch_sparse-0.6.18-cp310-cp310-linux_x86_64.whl size=2625860 sha256=3bae1b5ca4ae4d792afb91bf5a6a950d10d2454252898f607bcc6ba9cc8dbd37\n",
      "  Stored in directory: /root/.cache/pip/wheels/c9/dd/0f/a6a16f9f3b0236733d257b4b4ea91b548b984a341ed3b8f38c\n",
      "  Building wheel for torch_cluster (setup.py) ... \u001b[?25ldone\n",
      "\u001b[?25h  Created wheel for torch_cluster: filename=torch_cluster-1.6.3-cp310-cp310-linux_x86_64.whl size=2045190 sha256=ed6d631223d100bafaa2048b3c591c14858e19e471816be19f34ba5f31952f72\n",
      "  Stored in directory: /root/.cache/pip/wheels/51/78/c3/536637b3cdcc3313aa5e8851a6c72b97f6a01877e68c7595e3\n",
      "  Building wheel for torch_spline_conv (setup.py) ... \u001b[?25ldone\n",
      "\u001b[?25h  Created wheel for torch_spline_conv: filename=torch_spline_conv-1.2.2-cp310-cp310-linux_x86_64.whl size=540600 sha256=621c0ea5d725ce6fd64775916b1f716b77d6950bdb91b7e87c9bd8609f8df622\n",
      "  Stored in directory: /root/.cache/pip/wheels/fc/34/be/187e4b5f5ccefecca2c1a5dfc8da244ec50baa1f33c7b8c9a1\n",
      "Successfully built torch_scatter torch_sparse torch_cluster torch_spline_conv\n",
      "Installing collected packages: torch_spline_conv, torch_scatter, torch_sparse, torch_cluster\n",
      "Successfully installed torch_cluster-1.6.3 torch_scatter-2.1.2 torch_sparse-0.6.18 torch_spline_conv-1.2.2\n"
     ]
    }
   ],
   "source": [
    "!pip install torch_geometric\n",
    "tv = torch.__version__\n",
    "!pip install torch_scatter torch_sparse torch_cluster torch_spline_conv -f https://data.pyg.org/whl/torch-{tv}.html"
   ]
  },
  {
   "cell_type": "code",
   "execution_count": 4,
   "metadata": {
    "execution": {
     "iopub.execute_input": "2024-04-16T17:19:02.764044Z",
     "iopub.status.busy": "2024-04-16T17:19:02.763694Z",
     "iopub.status.idle": "2024-04-16T17:19:06.434781Z",
     "shell.execute_reply": "2024-04-16T17:19:06.433597Z",
     "shell.execute_reply.started": "2024-04-16T17:19:02.764003Z"
    }
   },
   "outputs": [],
   "source": [
    "from torch_geometric.data import Data\n",
    "from torch_geometric.nn import DynamicEdgeConv, MessagePassing, knn_graph"
   ]
  },
  {
   "cell_type": "markdown",
   "metadata": {
    "id": "HF-jGPyhFeO6"
   },
   "source": [
    "### Selecting Device"
   ]
  },
  {
   "cell_type": "code",
   "execution_count": 5,
   "metadata": {
    "execution": {
     "iopub.execute_input": "2024-04-16T17:19:06.437494Z",
     "iopub.status.busy": "2024-04-16T17:19:06.437053Z",
     "iopub.status.idle": "2024-04-16T17:19:06.468454Z",
     "shell.execute_reply": "2024-04-16T17:19:06.467167Z",
     "shell.execute_reply.started": "2024-04-16T17:19:06.437463Z"
    }
   },
   "outputs": [
    {
     "data": {
      "text/plain": [
       "device(type='cuda')"
      ]
     },
     "execution_count": 5,
     "metadata": {},
     "output_type": "execute_result"
    }
   ],
   "source": [
    "device = torch.device('cuda' if torch.cuda.is_available() else 'cpu')\n",
    "device"
   ]
  },
  {
   "cell_type": "markdown",
   "metadata": {},
   "source": [
    "### Load traning and test data and Concatinate them"
   ]
  },
  {
   "cell_type": "code",
   "execution_count": 6,
   "metadata": {
    "execution": {
     "iopub.execute_input": "2024-04-16T17:19:06.470061Z",
     "iopub.status.busy": "2024-04-16T17:19:06.469666Z",
     "iopub.status.idle": "2024-04-16T17:19:09.653468Z",
     "shell.execute_reply": "2024-04-16T17:19:09.652469Z",
     "shell.execute_reply.started": "2024-04-16T17:19:06.470025Z"
    }
   },
   "outputs": [],
   "source": [
    "df_train = pd.read_csv('/kaggle/input/ugp1011/trainingData_mod.csv')"
   ]
  },
  {
   "cell_type": "code",
   "execution_count": 7,
   "metadata": {
    "execution": {
     "iopub.execute_input": "2024-04-16T17:19:09.656282Z",
     "iopub.status.busy": "2024-04-16T17:19:09.654764Z",
     "iopub.status.idle": "2024-04-16T17:19:09.661397Z",
     "shell.execute_reply": "2024-04-16T17:19:09.660290Z",
     "shell.execute_reply.started": "2024-04-16T17:19:09.656245Z"
    }
   },
   "outputs": [],
   "source": [
    "missing = 0.0\n",
    "if missing > 0:\n",
    "    df_train = df_train.sample(frac=1-missing, random_state=42)"
   ]
  },
  {
   "cell_type": "code",
   "execution_count": 8,
   "metadata": {
    "execution": {
     "iopub.execute_input": "2024-04-16T17:19:09.662767Z",
     "iopub.status.busy": "2024-04-16T17:19:09.662500Z",
     "iopub.status.idle": "2024-04-16T17:19:10.054637Z",
     "shell.execute_reply": "2024-04-16T17:19:10.053695Z",
     "shell.execute_reply.started": "2024-04-16T17:19:09.662744Z"
    }
   },
   "outputs": [
    {
     "data": {
      "text/html": [
       "<div>\n",
       "<style scoped>\n",
       "    .dataframe tbody tr th:only-of-type {\n",
       "        vertical-align: middle;\n",
       "    }\n",
       "\n",
       "    .dataframe tbody tr th {\n",
       "        vertical-align: top;\n",
       "    }\n",
       "\n",
       "    .dataframe thead th {\n",
       "        text-align: right;\n",
       "    }\n",
       "</style>\n",
       "<table border=\"1\" class=\"dataframe\">\n",
       "  <thead>\n",
       "    <tr style=\"text-align: right;\">\n",
       "      <th></th>\n",
       "      <th>WAP001</th>\n",
       "      <th>WAP002</th>\n",
       "      <th>WAP003</th>\n",
       "      <th>WAP004</th>\n",
       "      <th>WAP005</th>\n",
       "      <th>WAP006</th>\n",
       "      <th>WAP007</th>\n",
       "      <th>WAP008</th>\n",
       "      <th>WAP009</th>\n",
       "      <th>WAP010</th>\n",
       "      <th>...</th>\n",
       "      <th>DRSS520</th>\n",
       "      <th>LONGITUDE</th>\n",
       "      <th>LATITUDE</th>\n",
       "      <th>FLOOR</th>\n",
       "      <th>BUILDINGID</th>\n",
       "      <th>SPACEID</th>\n",
       "      <th>RELATIVEPOSITION</th>\n",
       "      <th>USERID</th>\n",
       "      <th>PHONEID</th>\n",
       "      <th>TIMESTAMP</th>\n",
       "    </tr>\n",
       "  </thead>\n",
       "  <tbody>\n",
       "    <tr>\n",
       "      <th>0</th>\n",
       "      <td>0</td>\n",
       "      <td>0</td>\n",
       "      <td>0</td>\n",
       "      <td>0</td>\n",
       "      <td>0</td>\n",
       "      <td>0</td>\n",
       "      <td>0</td>\n",
       "      <td>0</td>\n",
       "      <td>0</td>\n",
       "      <td>0</td>\n",
       "      <td>...</td>\n",
       "      <td>0.0</td>\n",
       "      <td>-7541.264300</td>\n",
       "      <td>4.864921e+06</td>\n",
       "      <td>2</td>\n",
       "      <td>1</td>\n",
       "      <td>106</td>\n",
       "      <td>2</td>\n",
       "      <td>2</td>\n",
       "      <td>23</td>\n",
       "      <td>1371713733</td>\n",
       "    </tr>\n",
       "    <tr>\n",
       "      <th>1</th>\n",
       "      <td>0</td>\n",
       "      <td>0</td>\n",
       "      <td>0</td>\n",
       "      <td>0</td>\n",
       "      <td>0</td>\n",
       "      <td>0</td>\n",
       "      <td>0</td>\n",
       "      <td>0</td>\n",
       "      <td>0</td>\n",
       "      <td>0</td>\n",
       "      <td>...</td>\n",
       "      <td>0.0</td>\n",
       "      <td>-7536.621200</td>\n",
       "      <td>4.864934e+06</td>\n",
       "      <td>2</td>\n",
       "      <td>1</td>\n",
       "      <td>106</td>\n",
       "      <td>2</td>\n",
       "      <td>2</td>\n",
       "      <td>23</td>\n",
       "      <td>1371713691</td>\n",
       "    </tr>\n",
       "    <tr>\n",
       "      <th>2</th>\n",
       "      <td>0</td>\n",
       "      <td>0</td>\n",
       "      <td>0</td>\n",
       "      <td>0</td>\n",
       "      <td>0</td>\n",
       "      <td>0</td>\n",
       "      <td>0</td>\n",
       "      <td>7</td>\n",
       "      <td>0</td>\n",
       "      <td>0</td>\n",
       "      <td>...</td>\n",
       "      <td>0.0</td>\n",
       "      <td>-7519.152400</td>\n",
       "      <td>4.864950e+06</td>\n",
       "      <td>2</td>\n",
       "      <td>1</td>\n",
       "      <td>103</td>\n",
       "      <td>2</td>\n",
       "      <td>2</td>\n",
       "      <td>23</td>\n",
       "      <td>1371714095</td>\n",
       "    </tr>\n",
       "    <tr>\n",
       "      <th>3</th>\n",
       "      <td>0</td>\n",
       "      <td>0</td>\n",
       "      <td>0</td>\n",
       "      <td>0</td>\n",
       "      <td>0</td>\n",
       "      <td>0</td>\n",
       "      <td>0</td>\n",
       "      <td>0</td>\n",
       "      <td>0</td>\n",
       "      <td>0</td>\n",
       "      <td>...</td>\n",
       "      <td>0.0</td>\n",
       "      <td>-7524.570400</td>\n",
       "      <td>4.864934e+06</td>\n",
       "      <td>2</td>\n",
       "      <td>1</td>\n",
       "      <td>102</td>\n",
       "      <td>2</td>\n",
       "      <td>2</td>\n",
       "      <td>23</td>\n",
       "      <td>1371713807</td>\n",
       "    </tr>\n",
       "    <tr>\n",
       "      <th>4</th>\n",
       "      <td>0</td>\n",
       "      <td>0</td>\n",
       "      <td>0</td>\n",
       "      <td>0</td>\n",
       "      <td>0</td>\n",
       "      <td>0</td>\n",
       "      <td>0</td>\n",
       "      <td>0</td>\n",
       "      <td>0</td>\n",
       "      <td>0</td>\n",
       "      <td>...</td>\n",
       "      <td>0.0</td>\n",
       "      <td>-7632.143600</td>\n",
       "      <td>4.864982e+06</td>\n",
       "      <td>0</td>\n",
       "      <td>0</td>\n",
       "      <td>122</td>\n",
       "      <td>2</td>\n",
       "      <td>11</td>\n",
       "      <td>13</td>\n",
       "      <td>1369909710</td>\n",
       "    </tr>\n",
       "    <tr>\n",
       "      <th>...</th>\n",
       "      <td>...</td>\n",
       "      <td>...</td>\n",
       "      <td>...</td>\n",
       "      <td>...</td>\n",
       "      <td>...</td>\n",
       "      <td>...</td>\n",
       "      <td>...</td>\n",
       "      <td>...</td>\n",
       "      <td>...</td>\n",
       "      <td>...</td>\n",
       "      <td>...</td>\n",
       "      <td>...</td>\n",
       "      <td>...</td>\n",
       "      <td>...</td>\n",
       "      <td>...</td>\n",
       "      <td>...</td>\n",
       "      <td>...</td>\n",
       "      <td>...</td>\n",
       "      <td>...</td>\n",
       "      <td>...</td>\n",
       "      <td>...</td>\n",
       "    </tr>\n",
       "    <tr>\n",
       "      <th>1106</th>\n",
       "      <td>0</td>\n",
       "      <td>0</td>\n",
       "      <td>0</td>\n",
       "      <td>0</td>\n",
       "      <td>0</td>\n",
       "      <td>0</td>\n",
       "      <td>0</td>\n",
       "      <td>0</td>\n",
       "      <td>0</td>\n",
       "      <td>0</td>\n",
       "      <td>...</td>\n",
       "      <td>0.0</td>\n",
       "      <td>-7317.344231</td>\n",
       "      <td>4.864796e+06</td>\n",
       "      <td>3</td>\n",
       "      <td>2</td>\n",
       "      <td>0</td>\n",
       "      <td>0</td>\n",
       "      <td>0</td>\n",
       "      <td>13</td>\n",
       "      <td>1381156711</td>\n",
       "    </tr>\n",
       "    <tr>\n",
       "      <th>1107</th>\n",
       "      <td>0</td>\n",
       "      <td>0</td>\n",
       "      <td>0</td>\n",
       "      <td>0</td>\n",
       "      <td>0</td>\n",
       "      <td>0</td>\n",
       "      <td>0</td>\n",
       "      <td>0</td>\n",
       "      <td>0</td>\n",
       "      <td>0</td>\n",
       "      <td>...</td>\n",
       "      <td>0.0</td>\n",
       "      <td>-7313.731120</td>\n",
       "      <td>4.864792e+06</td>\n",
       "      <td>3</td>\n",
       "      <td>2</td>\n",
       "      <td>0</td>\n",
       "      <td>0</td>\n",
       "      <td>0</td>\n",
       "      <td>13</td>\n",
       "      <td>1381156730</td>\n",
       "    </tr>\n",
       "    <tr>\n",
       "      <th>1108</th>\n",
       "      <td>0</td>\n",
       "      <td>0</td>\n",
       "      <td>0</td>\n",
       "      <td>0</td>\n",
       "      <td>0</td>\n",
       "      <td>0</td>\n",
       "      <td>0</td>\n",
       "      <td>0</td>\n",
       "      <td>0</td>\n",
       "      <td>0</td>\n",
       "      <td>...</td>\n",
       "      <td>0.0</td>\n",
       "      <td>-7637.535798</td>\n",
       "      <td>4.864903e+06</td>\n",
       "      <td>0</td>\n",
       "      <td>0</td>\n",
       "      <td>0</td>\n",
       "      <td>0</td>\n",
       "      <td>0</td>\n",
       "      <td>13</td>\n",
       "      <td>1381247781</td>\n",
       "    </tr>\n",
       "    <tr>\n",
       "      <th>1109</th>\n",
       "      <td>0</td>\n",
       "      <td>0</td>\n",
       "      <td>0</td>\n",
       "      <td>0</td>\n",
       "      <td>0</td>\n",
       "      <td>0</td>\n",
       "      <td>0</td>\n",
       "      <td>0</td>\n",
       "      <td>0</td>\n",
       "      <td>0</td>\n",
       "      <td>...</td>\n",
       "      <td>0.0</td>\n",
       "      <td>-7636.654005</td>\n",
       "      <td>4.864905e+06</td>\n",
       "      <td>0</td>\n",
       "      <td>0</td>\n",
       "      <td>0</td>\n",
       "      <td>0</td>\n",
       "      <td>0</td>\n",
       "      <td>13</td>\n",
       "      <td>1381247807</td>\n",
       "    </tr>\n",
       "    <tr>\n",
       "      <th>1110</th>\n",
       "      <td>0</td>\n",
       "      <td>0</td>\n",
       "      <td>0</td>\n",
       "      <td>0</td>\n",
       "      <td>0</td>\n",
       "      <td>0</td>\n",
       "      <td>0</td>\n",
       "      <td>0</td>\n",
       "      <td>0</td>\n",
       "      <td>0</td>\n",
       "      <td>...</td>\n",
       "      <td>0.0</td>\n",
       "      <td>-7637.944120</td>\n",
       "      <td>4.864904e+06</td>\n",
       "      <td>0</td>\n",
       "      <td>0</td>\n",
       "      <td>0</td>\n",
       "      <td>0</td>\n",
       "      <td>0</td>\n",
       "      <td>13</td>\n",
       "      <td>1381247836</td>\n",
       "    </tr>\n",
       "  </tbody>\n",
       "</table>\n",
       "<p>21048 rows × 1049 columns</p>\n",
       "</div>"
      ],
      "text/plain": [
       "      WAP001  WAP002  WAP003  WAP004  WAP005  WAP006  WAP007  WAP008  WAP009  \\\n",
       "0          0       0       0       0       0       0       0       0       0   \n",
       "1          0       0       0       0       0       0       0       0       0   \n",
       "2          0       0       0       0       0       0       0       7       0   \n",
       "3          0       0       0       0       0       0       0       0       0   \n",
       "4          0       0       0       0       0       0       0       0       0   \n",
       "...      ...     ...     ...     ...     ...     ...     ...     ...     ...   \n",
       "1106       0       0       0       0       0       0       0       0       0   \n",
       "1107       0       0       0       0       0       0       0       0       0   \n",
       "1108       0       0       0       0       0       0       0       0       0   \n",
       "1109       0       0       0       0       0       0       0       0       0   \n",
       "1110       0       0       0       0       0       0       0       0       0   \n",
       "\n",
       "      WAP010  ...  DRSS520    LONGITUDE      LATITUDE  FLOOR  BUILDINGID  \\\n",
       "0          0  ...      0.0 -7541.264300  4.864921e+06      2           1   \n",
       "1          0  ...      0.0 -7536.621200  4.864934e+06      2           1   \n",
       "2          0  ...      0.0 -7519.152400  4.864950e+06      2           1   \n",
       "3          0  ...      0.0 -7524.570400  4.864934e+06      2           1   \n",
       "4          0  ...      0.0 -7632.143600  4.864982e+06      0           0   \n",
       "...      ...  ...      ...          ...           ...    ...         ...   \n",
       "1106       0  ...      0.0 -7317.344231  4.864796e+06      3           2   \n",
       "1107       0  ...      0.0 -7313.731120  4.864792e+06      3           2   \n",
       "1108       0  ...      0.0 -7637.535798  4.864903e+06      0           0   \n",
       "1109       0  ...      0.0 -7636.654005  4.864905e+06      0           0   \n",
       "1110       0  ...      0.0 -7637.944120  4.864904e+06      0           0   \n",
       "\n",
       "      SPACEID  RELATIVEPOSITION  USERID  PHONEID   TIMESTAMP  \n",
       "0         106                 2       2       23  1371713733  \n",
       "1         106                 2       2       23  1371713691  \n",
       "2         103                 2       2       23  1371714095  \n",
       "3         102                 2       2       23  1371713807  \n",
       "4         122                 2      11       13  1369909710  \n",
       "...       ...               ...     ...      ...         ...  \n",
       "1106        0                 0       0       13  1381156711  \n",
       "1107        0                 0       0       13  1381156730  \n",
       "1108        0                 0       0       13  1381247781  \n",
       "1109        0                 0       0       13  1381247807  \n",
       "1110        0                 0       0       13  1381247836  \n",
       "\n",
       "[21048 rows x 1049 columns]"
      ]
     },
     "execution_count": 8,
     "metadata": {},
     "output_type": "execute_result"
    }
   ],
   "source": [
    "df_val = pd.read_csv('/kaggle/input/ugp1011/validationData_mod.csv')\n",
    "\n",
    "train_numb = len(df_train)\n",
    "test_numb = len(df_val)\n",
    "\n",
    "df = pd.concat([df_train, df_val])\n",
    "df"
   ]
  },
  {
   "cell_type": "markdown",
   "metadata": {
    "tags": []
   },
   "source": [
    "### Create Classes for classification"
   ]
  },
  {
   "cell_type": "code",
   "execution_count": 9,
   "metadata": {
    "execution": {
     "iopub.execute_input": "2024-04-16T17:19:10.056168Z",
     "iopub.status.busy": "2024-04-16T17:19:10.055875Z",
     "iopub.status.idle": "2024-04-16T17:19:10.101902Z",
     "shell.execute_reply": "2024-04-16T17:19:10.101044Z",
     "shell.execute_reply.started": "2024-04-16T17:19:10.056143Z"
    }
   },
   "outputs": [
    {
     "data": {
      "text/html": [
       "<div>\n",
       "<style scoped>\n",
       "    .dataframe tbody tr th:only-of-type {\n",
       "        vertical-align: middle;\n",
       "    }\n",
       "\n",
       "    .dataframe tbody tr th {\n",
       "        vertical-align: top;\n",
       "    }\n",
       "\n",
       "    .dataframe thead th {\n",
       "        text-align: right;\n",
       "    }\n",
       "</style>\n",
       "<table border=\"1\" class=\"dataframe\">\n",
       "  <thead>\n",
       "    <tr style=\"text-align: right;\">\n",
       "      <th></th>\n",
       "      <th>WAP001</th>\n",
       "      <th>WAP002</th>\n",
       "      <th>WAP003</th>\n",
       "      <th>WAP004</th>\n",
       "      <th>WAP005</th>\n",
       "      <th>WAP006</th>\n",
       "      <th>WAP007</th>\n",
       "      <th>WAP008</th>\n",
       "      <th>WAP009</th>\n",
       "      <th>WAP010</th>\n",
       "      <th>...</th>\n",
       "      <th>LONGITUDE</th>\n",
       "      <th>LATITUDE</th>\n",
       "      <th>FLOOR</th>\n",
       "      <th>BUILDINGID</th>\n",
       "      <th>SPACEID</th>\n",
       "      <th>RELATIVEPOSITION</th>\n",
       "      <th>USERID</th>\n",
       "      <th>PHONEID</th>\n",
       "      <th>TIMESTAMP</th>\n",
       "      <th>CLASS</th>\n",
       "    </tr>\n",
       "  </thead>\n",
       "  <tbody>\n",
       "    <tr>\n",
       "      <th>0</th>\n",
       "      <td>0</td>\n",
       "      <td>0</td>\n",
       "      <td>0</td>\n",
       "      <td>0</td>\n",
       "      <td>0</td>\n",
       "      <td>0</td>\n",
       "      <td>0</td>\n",
       "      <td>0</td>\n",
       "      <td>0</td>\n",
       "      <td>0</td>\n",
       "      <td>...</td>\n",
       "      <td>-7541.264300</td>\n",
       "      <td>4.864921e+06</td>\n",
       "      <td>2</td>\n",
       "      <td>1</td>\n",
       "      <td>106</td>\n",
       "      <td>2</td>\n",
       "      <td>2</td>\n",
       "      <td>23</td>\n",
       "      <td>1371713733</td>\n",
       "      <td>12</td>\n",
       "    </tr>\n",
       "    <tr>\n",
       "      <th>1</th>\n",
       "      <td>0</td>\n",
       "      <td>0</td>\n",
       "      <td>0</td>\n",
       "      <td>0</td>\n",
       "      <td>0</td>\n",
       "      <td>0</td>\n",
       "      <td>0</td>\n",
       "      <td>0</td>\n",
       "      <td>0</td>\n",
       "      <td>0</td>\n",
       "      <td>...</td>\n",
       "      <td>-7536.621200</td>\n",
       "      <td>4.864934e+06</td>\n",
       "      <td>2</td>\n",
       "      <td>1</td>\n",
       "      <td>106</td>\n",
       "      <td>2</td>\n",
       "      <td>2</td>\n",
       "      <td>23</td>\n",
       "      <td>1371713691</td>\n",
       "      <td>12</td>\n",
       "    </tr>\n",
       "    <tr>\n",
       "      <th>2</th>\n",
       "      <td>0</td>\n",
       "      <td>0</td>\n",
       "      <td>0</td>\n",
       "      <td>0</td>\n",
       "      <td>0</td>\n",
       "      <td>0</td>\n",
       "      <td>0</td>\n",
       "      <td>7</td>\n",
       "      <td>0</td>\n",
       "      <td>0</td>\n",
       "      <td>...</td>\n",
       "      <td>-7519.152400</td>\n",
       "      <td>4.864950e+06</td>\n",
       "      <td>2</td>\n",
       "      <td>1</td>\n",
       "      <td>103</td>\n",
       "      <td>2</td>\n",
       "      <td>2</td>\n",
       "      <td>23</td>\n",
       "      <td>1371714095</td>\n",
       "      <td>12</td>\n",
       "    </tr>\n",
       "    <tr>\n",
       "      <th>3</th>\n",
       "      <td>0</td>\n",
       "      <td>0</td>\n",
       "      <td>0</td>\n",
       "      <td>0</td>\n",
       "      <td>0</td>\n",
       "      <td>0</td>\n",
       "      <td>0</td>\n",
       "      <td>0</td>\n",
       "      <td>0</td>\n",
       "      <td>0</td>\n",
       "      <td>...</td>\n",
       "      <td>-7524.570400</td>\n",
       "      <td>4.864934e+06</td>\n",
       "      <td>2</td>\n",
       "      <td>1</td>\n",
       "      <td>102</td>\n",
       "      <td>2</td>\n",
       "      <td>2</td>\n",
       "      <td>23</td>\n",
       "      <td>1371713807</td>\n",
       "      <td>12</td>\n",
       "    </tr>\n",
       "    <tr>\n",
       "      <th>4</th>\n",
       "      <td>0</td>\n",
       "      <td>0</td>\n",
       "      <td>0</td>\n",
       "      <td>0</td>\n",
       "      <td>0</td>\n",
       "      <td>0</td>\n",
       "      <td>0</td>\n",
       "      <td>0</td>\n",
       "      <td>0</td>\n",
       "      <td>0</td>\n",
       "      <td>...</td>\n",
       "      <td>-7632.143600</td>\n",
       "      <td>4.864982e+06</td>\n",
       "      <td>0</td>\n",
       "      <td>0</td>\n",
       "      <td>122</td>\n",
       "      <td>2</td>\n",
       "      <td>11</td>\n",
       "      <td>13</td>\n",
       "      <td>1369909710</td>\n",
       "      <td>00</td>\n",
       "    </tr>\n",
       "    <tr>\n",
       "      <th>...</th>\n",
       "      <td>...</td>\n",
       "      <td>...</td>\n",
       "      <td>...</td>\n",
       "      <td>...</td>\n",
       "      <td>...</td>\n",
       "      <td>...</td>\n",
       "      <td>...</td>\n",
       "      <td>...</td>\n",
       "      <td>...</td>\n",
       "      <td>...</td>\n",
       "      <td>...</td>\n",
       "      <td>...</td>\n",
       "      <td>...</td>\n",
       "      <td>...</td>\n",
       "      <td>...</td>\n",
       "      <td>...</td>\n",
       "      <td>...</td>\n",
       "      <td>...</td>\n",
       "      <td>...</td>\n",
       "      <td>...</td>\n",
       "      <td>...</td>\n",
       "    </tr>\n",
       "    <tr>\n",
       "      <th>1106</th>\n",
       "      <td>0</td>\n",
       "      <td>0</td>\n",
       "      <td>0</td>\n",
       "      <td>0</td>\n",
       "      <td>0</td>\n",
       "      <td>0</td>\n",
       "      <td>0</td>\n",
       "      <td>0</td>\n",
       "      <td>0</td>\n",
       "      <td>0</td>\n",
       "      <td>...</td>\n",
       "      <td>-7317.344231</td>\n",
       "      <td>4.864796e+06</td>\n",
       "      <td>3</td>\n",
       "      <td>2</td>\n",
       "      <td>0</td>\n",
       "      <td>0</td>\n",
       "      <td>0</td>\n",
       "      <td>13</td>\n",
       "      <td>1381156711</td>\n",
       "      <td>23</td>\n",
       "    </tr>\n",
       "    <tr>\n",
       "      <th>1107</th>\n",
       "      <td>0</td>\n",
       "      <td>0</td>\n",
       "      <td>0</td>\n",
       "      <td>0</td>\n",
       "      <td>0</td>\n",
       "      <td>0</td>\n",
       "      <td>0</td>\n",
       "      <td>0</td>\n",
       "      <td>0</td>\n",
       "      <td>0</td>\n",
       "      <td>...</td>\n",
       "      <td>-7313.731120</td>\n",
       "      <td>4.864792e+06</td>\n",
       "      <td>3</td>\n",
       "      <td>2</td>\n",
       "      <td>0</td>\n",
       "      <td>0</td>\n",
       "      <td>0</td>\n",
       "      <td>13</td>\n",
       "      <td>1381156730</td>\n",
       "      <td>23</td>\n",
       "    </tr>\n",
       "    <tr>\n",
       "      <th>1108</th>\n",
       "      <td>0</td>\n",
       "      <td>0</td>\n",
       "      <td>0</td>\n",
       "      <td>0</td>\n",
       "      <td>0</td>\n",
       "      <td>0</td>\n",
       "      <td>0</td>\n",
       "      <td>0</td>\n",
       "      <td>0</td>\n",
       "      <td>0</td>\n",
       "      <td>...</td>\n",
       "      <td>-7637.535798</td>\n",
       "      <td>4.864903e+06</td>\n",
       "      <td>0</td>\n",
       "      <td>0</td>\n",
       "      <td>0</td>\n",
       "      <td>0</td>\n",
       "      <td>0</td>\n",
       "      <td>13</td>\n",
       "      <td>1381247781</td>\n",
       "      <td>00</td>\n",
       "    </tr>\n",
       "    <tr>\n",
       "      <th>1109</th>\n",
       "      <td>0</td>\n",
       "      <td>0</td>\n",
       "      <td>0</td>\n",
       "      <td>0</td>\n",
       "      <td>0</td>\n",
       "      <td>0</td>\n",
       "      <td>0</td>\n",
       "      <td>0</td>\n",
       "      <td>0</td>\n",
       "      <td>0</td>\n",
       "      <td>...</td>\n",
       "      <td>-7636.654005</td>\n",
       "      <td>4.864905e+06</td>\n",
       "      <td>0</td>\n",
       "      <td>0</td>\n",
       "      <td>0</td>\n",
       "      <td>0</td>\n",
       "      <td>0</td>\n",
       "      <td>13</td>\n",
       "      <td>1381247807</td>\n",
       "      <td>00</td>\n",
       "    </tr>\n",
       "    <tr>\n",
       "      <th>1110</th>\n",
       "      <td>0</td>\n",
       "      <td>0</td>\n",
       "      <td>0</td>\n",
       "      <td>0</td>\n",
       "      <td>0</td>\n",
       "      <td>0</td>\n",
       "      <td>0</td>\n",
       "      <td>0</td>\n",
       "      <td>0</td>\n",
       "      <td>0</td>\n",
       "      <td>...</td>\n",
       "      <td>-7637.944120</td>\n",
       "      <td>4.864904e+06</td>\n",
       "      <td>0</td>\n",
       "      <td>0</td>\n",
       "      <td>0</td>\n",
       "      <td>0</td>\n",
       "      <td>0</td>\n",
       "      <td>13</td>\n",
       "      <td>1381247836</td>\n",
       "      <td>00</td>\n",
       "    </tr>\n",
       "  </tbody>\n",
       "</table>\n",
       "<p>21048 rows × 1050 columns</p>\n",
       "</div>"
      ],
      "text/plain": [
       "      WAP001  WAP002  WAP003  WAP004  WAP005  WAP006  WAP007  WAP008  WAP009  \\\n",
       "0          0       0       0       0       0       0       0       0       0   \n",
       "1          0       0       0       0       0       0       0       0       0   \n",
       "2          0       0       0       0       0       0       0       7       0   \n",
       "3          0       0       0       0       0       0       0       0       0   \n",
       "4          0       0       0       0       0       0       0       0       0   \n",
       "...      ...     ...     ...     ...     ...     ...     ...     ...     ...   \n",
       "1106       0       0       0       0       0       0       0       0       0   \n",
       "1107       0       0       0       0       0       0       0       0       0   \n",
       "1108       0       0       0       0       0       0       0       0       0   \n",
       "1109       0       0       0       0       0       0       0       0       0   \n",
       "1110       0       0       0       0       0       0       0       0       0   \n",
       "\n",
       "      WAP010  ...    LONGITUDE      LATITUDE  FLOOR  BUILDINGID  SPACEID  \\\n",
       "0          0  ... -7541.264300  4.864921e+06      2           1      106   \n",
       "1          0  ... -7536.621200  4.864934e+06      2           1      106   \n",
       "2          0  ... -7519.152400  4.864950e+06      2           1      103   \n",
       "3          0  ... -7524.570400  4.864934e+06      2           1      102   \n",
       "4          0  ... -7632.143600  4.864982e+06      0           0      122   \n",
       "...      ...  ...          ...           ...    ...         ...      ...   \n",
       "1106       0  ... -7317.344231  4.864796e+06      3           2        0   \n",
       "1107       0  ... -7313.731120  4.864792e+06      3           2        0   \n",
       "1108       0  ... -7637.535798  4.864903e+06      0           0        0   \n",
       "1109       0  ... -7636.654005  4.864905e+06      0           0        0   \n",
       "1110       0  ... -7637.944120  4.864904e+06      0           0        0   \n",
       "\n",
       "      RELATIVEPOSITION  USERID  PHONEID   TIMESTAMP  CLASS  \n",
       "0                    2       2       23  1371713733     12  \n",
       "1                    2       2       23  1371713691     12  \n",
       "2                    2       2       23  1371714095     12  \n",
       "3                    2       2       23  1371713807     12  \n",
       "4                    2      11       13  1369909710     00  \n",
       "...                ...     ...      ...         ...    ...  \n",
       "1106                 0       0       13  1381156711     23  \n",
       "1107                 0       0       13  1381156730     23  \n",
       "1108                 0       0       13  1381247781     00  \n",
       "1109                 0       0       13  1381247807     00  \n",
       "1110                 0       0       13  1381247836     00  \n",
       "\n",
       "[21048 rows x 1050 columns]"
      ]
     },
     "execution_count": 9,
     "metadata": {},
     "output_type": "execute_result"
    }
   ],
   "source": [
    "df['CLASS'] = df['BUILDINGID'].astype(str) + df['FLOOR'].astype(str)\n",
    "df"
   ]
  },
  {
   "cell_type": "code",
   "execution_count": 10,
   "metadata": {
    "execution": {
     "iopub.execute_input": "2024-04-16T17:19:10.105144Z",
     "iopub.status.busy": "2024-04-16T17:19:10.104870Z",
     "iopub.status.idle": "2024-04-16T17:19:10.114768Z",
     "shell.execute_reply": "2024-04-16T17:19:10.113864Z",
     "shell.execute_reply.started": "2024-04-16T17:19:10.105120Z"
    }
   },
   "outputs": [
    {
     "data": {
      "text/plain": [
       "13"
      ]
     },
     "execution_count": 10,
     "metadata": {},
     "output_type": "execute_result"
    }
   ],
   "source": [
    "no_out = len(df['CLASS'].unique())\n",
    "no_out"
   ]
  },
  {
   "cell_type": "code",
   "execution_count": 11,
   "metadata": {
    "execution": {
     "iopub.execute_input": "2024-04-16T17:19:10.116233Z",
     "iopub.status.busy": "2024-04-16T17:19:10.115897Z",
     "iopub.status.idle": "2024-04-16T17:19:10.130609Z",
     "shell.execute_reply": "2024-04-16T17:19:10.129762Z",
     "shell.execute_reply.started": "2024-04-16T17:19:10.116210Z"
    }
   },
   "outputs": [
    {
     "data": {
      "text/html": [
       "<div>\n",
       "<style scoped>\n",
       "    .dataframe tbody tr th:only-of-type {\n",
       "        vertical-align: middle;\n",
       "    }\n",
       "\n",
       "    .dataframe tbody tr th {\n",
       "        vertical-align: top;\n",
       "    }\n",
       "\n",
       "    .dataframe thead th {\n",
       "        text-align: right;\n",
       "    }\n",
       "</style>\n",
       "<table border=\"1\" class=\"dataframe\">\n",
       "  <thead>\n",
       "    <tr style=\"text-align: right;\">\n",
       "      <th></th>\n",
       "      <th>CLASS</th>\n",
       "    </tr>\n",
       "  </thead>\n",
       "  <tbody>\n",
       "    <tr>\n",
       "      <th>0</th>\n",
       "      <td>12</td>\n",
       "    </tr>\n",
       "    <tr>\n",
       "      <th>1</th>\n",
       "      <td>12</td>\n",
       "    </tr>\n",
       "    <tr>\n",
       "      <th>2</th>\n",
       "      <td>12</td>\n",
       "    </tr>\n",
       "    <tr>\n",
       "      <th>3</th>\n",
       "      <td>12</td>\n",
       "    </tr>\n",
       "    <tr>\n",
       "      <th>4</th>\n",
       "      <td>00</td>\n",
       "    </tr>\n",
       "    <tr>\n",
       "      <th>...</th>\n",
       "      <td>...</td>\n",
       "    </tr>\n",
       "    <tr>\n",
       "      <th>1106</th>\n",
       "      <td>23</td>\n",
       "    </tr>\n",
       "    <tr>\n",
       "      <th>1107</th>\n",
       "      <td>23</td>\n",
       "    </tr>\n",
       "    <tr>\n",
       "      <th>1108</th>\n",
       "      <td>00</td>\n",
       "    </tr>\n",
       "    <tr>\n",
       "      <th>1109</th>\n",
       "      <td>00</td>\n",
       "    </tr>\n",
       "    <tr>\n",
       "      <th>1110</th>\n",
       "      <td>00</td>\n",
       "    </tr>\n",
       "  </tbody>\n",
       "</table>\n",
       "<p>21048 rows × 1 columns</p>\n",
       "</div>"
      ],
      "text/plain": [
       "     CLASS\n",
       "0       12\n",
       "1       12\n",
       "2       12\n",
       "3       12\n",
       "4       00\n",
       "...    ...\n",
       "1106    23\n",
       "1107    23\n",
       "1108    00\n",
       "1109    00\n",
       "1110    00\n",
       "\n",
       "[21048 rows x 1 columns]"
      ]
     },
     "execution_count": 11,
     "metadata": {},
     "output_type": "execute_result"
    }
   ],
   "source": [
    "df_y = df[[\"CLASS\"]]\n",
    "df_y"
   ]
  },
  {
   "cell_type": "code",
   "execution_count": 12,
   "metadata": {
    "execution": {
     "iopub.execute_input": "2024-04-16T17:19:10.131854Z",
     "iopub.status.busy": "2024-04-16T17:19:10.131602Z",
     "iopub.status.idle": "2024-04-16T17:19:10.146666Z",
     "shell.execute_reply": "2024-04-16T17:19:10.145945Z",
     "shell.execute_reply.started": "2024-04-16T17:19:10.131832Z"
    }
   },
   "outputs": [],
   "source": [
    "enc = OrdinalEncoder(dtype=np.int32)\n",
    "y = enc.fit_transform(df_y['CLASS'].values.reshape(-1,1))\n",
    "y = y.reshape(-1,)"
   ]
  },
  {
   "cell_type": "code",
   "execution_count": 13,
   "metadata": {
    "execution": {
     "iopub.execute_input": "2024-04-16T17:19:10.148452Z",
     "iopub.status.busy": "2024-04-16T17:19:10.147750Z",
     "iopub.status.idle": "2024-04-16T17:19:10.157883Z",
     "shell.execute_reply": "2024-04-16T17:19:10.157067Z",
     "shell.execute_reply.started": "2024-04-16T17:19:10.148420Z"
    }
   },
   "outputs": [
    {
     "data": {
      "text/plain": [
       "12"
      ]
     },
     "execution_count": 13,
     "metadata": {},
     "output_type": "execute_result"
    }
   ],
   "source": [
    "y.max()"
   ]
  },
  {
   "cell_type": "code",
   "execution_count": 14,
   "metadata": {
    "execution": {
     "iopub.execute_input": "2024-04-16T17:19:10.159379Z",
     "iopub.status.busy": "2024-04-16T17:19:10.159056Z",
     "iopub.status.idle": "2024-04-16T17:19:10.167577Z",
     "shell.execute_reply": "2024-04-16T17:19:10.166750Z",
     "shell.execute_reply.started": "2024-04-16T17:19:10.159349Z"
    }
   },
   "outputs": [
    {
     "data": {
      "text/plain": [
       "array([6, 6, 6, ..., 0, 0, 0], dtype=int32)"
      ]
     },
     "execution_count": 14,
     "metadata": {},
     "output_type": "execute_result"
    }
   ],
   "source": [
    "y"
   ]
  },
  {
   "cell_type": "markdown",
   "metadata": {},
   "source": [
    "### Seperate Input and Output"
   ]
  },
  {
   "cell_type": "code",
   "execution_count": 15,
   "metadata": {
    "execution": {
     "iopub.execute_input": "2024-04-16T17:19:10.169338Z",
     "iopub.status.busy": "2024-04-16T17:19:10.168648Z",
     "iopub.status.idle": "2024-04-16T17:19:10.263907Z",
     "shell.execute_reply": "2024-04-16T17:19:10.262896Z",
     "shell.execute_reply.started": "2024-04-16T17:19:10.169307Z"
    }
   },
   "outputs": [
    {
     "data": {
      "text/html": [
       "<div>\n",
       "<style scoped>\n",
       "    .dataframe tbody tr th:only-of-type {\n",
       "        vertical-align: middle;\n",
       "    }\n",
       "\n",
       "    .dataframe tbody tr th {\n",
       "        vertical-align: top;\n",
       "    }\n",
       "\n",
       "    .dataframe thead th {\n",
       "        text-align: right;\n",
       "    }\n",
       "</style>\n",
       "<table border=\"1\" class=\"dataframe\">\n",
       "  <thead>\n",
       "    <tr style=\"text-align: right;\">\n",
       "      <th></th>\n",
       "      <th>WAP001</th>\n",
       "      <th>WAP002</th>\n",
       "      <th>WAP003</th>\n",
       "      <th>WAP004</th>\n",
       "      <th>WAP005</th>\n",
       "      <th>WAP006</th>\n",
       "      <th>WAP007</th>\n",
       "      <th>WAP008</th>\n",
       "      <th>WAP009</th>\n",
       "      <th>WAP010</th>\n",
       "      <th>...</th>\n",
       "      <th>DRSS511</th>\n",
       "      <th>DRSS512</th>\n",
       "      <th>DRSS513</th>\n",
       "      <th>DRSS514</th>\n",
       "      <th>DRSS515</th>\n",
       "      <th>DRSS516</th>\n",
       "      <th>DRSS517</th>\n",
       "      <th>DRSS518</th>\n",
       "      <th>DRSS519</th>\n",
       "      <th>DRSS520</th>\n",
       "    </tr>\n",
       "  </thead>\n",
       "  <tbody>\n",
       "    <tr>\n",
       "      <th>0</th>\n",
       "      <td>0</td>\n",
       "      <td>0</td>\n",
       "      <td>0</td>\n",
       "      <td>0</td>\n",
       "      <td>0</td>\n",
       "      <td>0</td>\n",
       "      <td>0</td>\n",
       "      <td>0</td>\n",
       "      <td>0</td>\n",
       "      <td>0</td>\n",
       "      <td>...</td>\n",
       "      <td>0.0</td>\n",
       "      <td>0.0</td>\n",
       "      <td>0.0</td>\n",
       "      <td>0.0</td>\n",
       "      <td>0.0</td>\n",
       "      <td>0.0</td>\n",
       "      <td>0.0</td>\n",
       "      <td>0.0</td>\n",
       "      <td>0.0</td>\n",
       "      <td>0.0</td>\n",
       "    </tr>\n",
       "    <tr>\n",
       "      <th>1</th>\n",
       "      <td>0</td>\n",
       "      <td>0</td>\n",
       "      <td>0</td>\n",
       "      <td>0</td>\n",
       "      <td>0</td>\n",
       "      <td>0</td>\n",
       "      <td>0</td>\n",
       "      <td>0</td>\n",
       "      <td>0</td>\n",
       "      <td>0</td>\n",
       "      <td>...</td>\n",
       "      <td>0.0</td>\n",
       "      <td>0.0</td>\n",
       "      <td>0.0</td>\n",
       "      <td>0.0</td>\n",
       "      <td>0.0</td>\n",
       "      <td>0.0</td>\n",
       "      <td>0.0</td>\n",
       "      <td>0.0</td>\n",
       "      <td>0.0</td>\n",
       "      <td>0.0</td>\n",
       "    </tr>\n",
       "    <tr>\n",
       "      <th>2</th>\n",
       "      <td>0</td>\n",
       "      <td>0</td>\n",
       "      <td>0</td>\n",
       "      <td>0</td>\n",
       "      <td>0</td>\n",
       "      <td>0</td>\n",
       "      <td>0</td>\n",
       "      <td>7</td>\n",
       "      <td>0</td>\n",
       "      <td>0</td>\n",
       "      <td>...</td>\n",
       "      <td>0.0</td>\n",
       "      <td>0.0</td>\n",
       "      <td>0.0</td>\n",
       "      <td>0.0</td>\n",
       "      <td>0.0</td>\n",
       "      <td>0.0</td>\n",
       "      <td>0.0</td>\n",
       "      <td>0.0</td>\n",
       "      <td>0.0</td>\n",
       "      <td>0.0</td>\n",
       "    </tr>\n",
       "    <tr>\n",
       "      <th>3</th>\n",
       "      <td>0</td>\n",
       "      <td>0</td>\n",
       "      <td>0</td>\n",
       "      <td>0</td>\n",
       "      <td>0</td>\n",
       "      <td>0</td>\n",
       "      <td>0</td>\n",
       "      <td>0</td>\n",
       "      <td>0</td>\n",
       "      <td>0</td>\n",
       "      <td>...</td>\n",
       "      <td>0.0</td>\n",
       "      <td>0.0</td>\n",
       "      <td>0.0</td>\n",
       "      <td>0.0</td>\n",
       "      <td>0.0</td>\n",
       "      <td>0.0</td>\n",
       "      <td>0.0</td>\n",
       "      <td>0.0</td>\n",
       "      <td>0.0</td>\n",
       "      <td>0.0</td>\n",
       "    </tr>\n",
       "    <tr>\n",
       "      <th>4</th>\n",
       "      <td>0</td>\n",
       "      <td>0</td>\n",
       "      <td>0</td>\n",
       "      <td>0</td>\n",
       "      <td>0</td>\n",
       "      <td>0</td>\n",
       "      <td>0</td>\n",
       "      <td>0</td>\n",
       "      <td>0</td>\n",
       "      <td>0</td>\n",
       "      <td>...</td>\n",
       "      <td>0.0</td>\n",
       "      <td>0.0</td>\n",
       "      <td>0.0</td>\n",
       "      <td>0.0</td>\n",
       "      <td>0.0</td>\n",
       "      <td>0.0</td>\n",
       "      <td>0.0</td>\n",
       "      <td>0.0</td>\n",
       "      <td>0.0</td>\n",
       "      <td>0.0</td>\n",
       "    </tr>\n",
       "    <tr>\n",
       "      <th>...</th>\n",
       "      <td>...</td>\n",
       "      <td>...</td>\n",
       "      <td>...</td>\n",
       "      <td>...</td>\n",
       "      <td>...</td>\n",
       "      <td>...</td>\n",
       "      <td>...</td>\n",
       "      <td>...</td>\n",
       "      <td>...</td>\n",
       "      <td>...</td>\n",
       "      <td>...</td>\n",
       "      <td>...</td>\n",
       "      <td>...</td>\n",
       "      <td>...</td>\n",
       "      <td>...</td>\n",
       "      <td>...</td>\n",
       "      <td>...</td>\n",
       "      <td>...</td>\n",
       "      <td>...</td>\n",
       "      <td>...</td>\n",
       "      <td>...</td>\n",
       "    </tr>\n",
       "    <tr>\n",
       "      <th>1106</th>\n",
       "      <td>0</td>\n",
       "      <td>0</td>\n",
       "      <td>0</td>\n",
       "      <td>0</td>\n",
       "      <td>0</td>\n",
       "      <td>0</td>\n",
       "      <td>0</td>\n",
       "      <td>0</td>\n",
       "      <td>0</td>\n",
       "      <td>0</td>\n",
       "      <td>...</td>\n",
       "      <td>0.0</td>\n",
       "      <td>0.0</td>\n",
       "      <td>0.0</td>\n",
       "      <td>0.0</td>\n",
       "      <td>0.0</td>\n",
       "      <td>0.0</td>\n",
       "      <td>0.0</td>\n",
       "      <td>0.0</td>\n",
       "      <td>0.0</td>\n",
       "      <td>0.0</td>\n",
       "    </tr>\n",
       "    <tr>\n",
       "      <th>1107</th>\n",
       "      <td>0</td>\n",
       "      <td>0</td>\n",
       "      <td>0</td>\n",
       "      <td>0</td>\n",
       "      <td>0</td>\n",
       "      <td>0</td>\n",
       "      <td>0</td>\n",
       "      <td>0</td>\n",
       "      <td>0</td>\n",
       "      <td>0</td>\n",
       "      <td>...</td>\n",
       "      <td>0.0</td>\n",
       "      <td>0.0</td>\n",
       "      <td>0.0</td>\n",
       "      <td>0.0</td>\n",
       "      <td>0.0</td>\n",
       "      <td>0.0</td>\n",
       "      <td>0.0</td>\n",
       "      <td>0.0</td>\n",
       "      <td>0.0</td>\n",
       "      <td>0.0</td>\n",
       "    </tr>\n",
       "    <tr>\n",
       "      <th>1108</th>\n",
       "      <td>0</td>\n",
       "      <td>0</td>\n",
       "      <td>0</td>\n",
       "      <td>0</td>\n",
       "      <td>0</td>\n",
       "      <td>0</td>\n",
       "      <td>0</td>\n",
       "      <td>0</td>\n",
       "      <td>0</td>\n",
       "      <td>0</td>\n",
       "      <td>...</td>\n",
       "      <td>0.0</td>\n",
       "      <td>0.0</td>\n",
       "      <td>0.0</td>\n",
       "      <td>0.0</td>\n",
       "      <td>0.0</td>\n",
       "      <td>0.0</td>\n",
       "      <td>0.0</td>\n",
       "      <td>0.0</td>\n",
       "      <td>0.0</td>\n",
       "      <td>0.0</td>\n",
       "    </tr>\n",
       "    <tr>\n",
       "      <th>1109</th>\n",
       "      <td>0</td>\n",
       "      <td>0</td>\n",
       "      <td>0</td>\n",
       "      <td>0</td>\n",
       "      <td>0</td>\n",
       "      <td>0</td>\n",
       "      <td>0</td>\n",
       "      <td>0</td>\n",
       "      <td>0</td>\n",
       "      <td>0</td>\n",
       "      <td>...</td>\n",
       "      <td>0.0</td>\n",
       "      <td>0.0</td>\n",
       "      <td>0.0</td>\n",
       "      <td>0.0</td>\n",
       "      <td>0.0</td>\n",
       "      <td>0.0</td>\n",
       "      <td>0.0</td>\n",
       "      <td>0.0</td>\n",
       "      <td>0.0</td>\n",
       "      <td>0.0</td>\n",
       "    </tr>\n",
       "    <tr>\n",
       "      <th>1110</th>\n",
       "      <td>0</td>\n",
       "      <td>0</td>\n",
       "      <td>0</td>\n",
       "      <td>0</td>\n",
       "      <td>0</td>\n",
       "      <td>0</td>\n",
       "      <td>0</td>\n",
       "      <td>0</td>\n",
       "      <td>0</td>\n",
       "      <td>0</td>\n",
       "      <td>...</td>\n",
       "      <td>0.0</td>\n",
       "      <td>0.0</td>\n",
       "      <td>0.0</td>\n",
       "      <td>0.0</td>\n",
       "      <td>0.0</td>\n",
       "      <td>0.0</td>\n",
       "      <td>0.0</td>\n",
       "      <td>0.0</td>\n",
       "      <td>0.0</td>\n",
       "      <td>0.0</td>\n",
       "    </tr>\n",
       "  </tbody>\n",
       "</table>\n",
       "<p>21048 rows × 1040 columns</p>\n",
       "</div>"
      ],
      "text/plain": [
       "      WAP001  WAP002  WAP003  WAP004  WAP005  WAP006  WAP007  WAP008  WAP009  \\\n",
       "0          0       0       0       0       0       0       0       0       0   \n",
       "1          0       0       0       0       0       0       0       0       0   \n",
       "2          0       0       0       0       0       0       0       7       0   \n",
       "3          0       0       0       0       0       0       0       0       0   \n",
       "4          0       0       0       0       0       0       0       0       0   \n",
       "...      ...     ...     ...     ...     ...     ...     ...     ...     ...   \n",
       "1106       0       0       0       0       0       0       0       0       0   \n",
       "1107       0       0       0       0       0       0       0       0       0   \n",
       "1108       0       0       0       0       0       0       0       0       0   \n",
       "1109       0       0       0       0       0       0       0       0       0   \n",
       "1110       0       0       0       0       0       0       0       0       0   \n",
       "\n",
       "      WAP010  ...  DRSS511  DRSS512  DRSS513  DRSS514  DRSS515  DRSS516  \\\n",
       "0          0  ...      0.0      0.0      0.0      0.0      0.0      0.0   \n",
       "1          0  ...      0.0      0.0      0.0      0.0      0.0      0.0   \n",
       "2          0  ...      0.0      0.0      0.0      0.0      0.0      0.0   \n",
       "3          0  ...      0.0      0.0      0.0      0.0      0.0      0.0   \n",
       "4          0  ...      0.0      0.0      0.0      0.0      0.0      0.0   \n",
       "...      ...  ...      ...      ...      ...      ...      ...      ...   \n",
       "1106       0  ...      0.0      0.0      0.0      0.0      0.0      0.0   \n",
       "1107       0  ...      0.0      0.0      0.0      0.0      0.0      0.0   \n",
       "1108       0  ...      0.0      0.0      0.0      0.0      0.0      0.0   \n",
       "1109       0  ...      0.0      0.0      0.0      0.0      0.0      0.0   \n",
       "1110       0  ...      0.0      0.0      0.0      0.0      0.0      0.0   \n",
       "\n",
       "      DRSS517  DRSS518  DRSS519  DRSS520  \n",
       "0         0.0      0.0      0.0      0.0  \n",
       "1         0.0      0.0      0.0      0.0  \n",
       "2         0.0      0.0      0.0      0.0  \n",
       "3         0.0      0.0      0.0      0.0  \n",
       "4         0.0      0.0      0.0      0.0  \n",
       "...       ...      ...      ...      ...  \n",
       "1106      0.0      0.0      0.0      0.0  \n",
       "1107      0.0      0.0      0.0      0.0  \n",
       "1108      0.0      0.0      0.0      0.0  \n",
       "1109      0.0      0.0      0.0      0.0  \n",
       "1110      0.0      0.0      0.0      0.0  \n",
       "\n",
       "[21048 rows x 1040 columns]"
      ]
     },
     "execution_count": 15,
     "metadata": {},
     "output_type": "execute_result"
    }
   ],
   "source": [
    "df_x = df.iloc[: , :1040]\n",
    "\n",
    "df_x"
   ]
  },
  {
   "cell_type": "code",
   "execution_count": 16,
   "metadata": {
    "execution": {
     "iopub.execute_input": "2024-04-16T17:19:10.265392Z",
     "iopub.status.busy": "2024-04-16T17:19:10.265116Z",
     "iopub.status.idle": "2024-04-16T17:19:10.270416Z",
     "shell.execute_reply": "2024-04-16T17:19:10.269346Z",
     "shell.execute_reply.started": "2024-04-16T17:19:10.265367Z"
    }
   },
   "outputs": [],
   "source": [
    "# Split data into train and test sets\n",
    "X_train = df_x\n",
    "X_test = df_x[len(df_train):]\n",
    "y_train = y\n",
    "y_test = y[len(df_train):]"
   ]
  },
  {
   "cell_type": "markdown",
   "metadata": {},
   "source": [
    "### Scale the input features"
   ]
  },
  {
   "cell_type": "code",
   "execution_count": 17,
   "metadata": {
    "execution": {
     "iopub.execute_input": "2024-04-16T17:19:10.272481Z",
     "iopub.status.busy": "2024-04-16T17:19:10.271733Z",
     "iopub.status.idle": "2024-04-16T17:19:10.398501Z",
     "shell.execute_reply": "2024-04-16T17:19:10.397627Z",
     "shell.execute_reply.started": "2024-04-16T17:19:10.272445Z"
    }
   },
   "outputs": [
    {
     "data": {
      "text/html": [
       "<style>#sk-container-id-1 {color: black;background-color: white;}#sk-container-id-1 pre{padding: 0;}#sk-container-id-1 div.sk-toggleable {background-color: white;}#sk-container-id-1 label.sk-toggleable__label {cursor: pointer;display: block;width: 100%;margin-bottom: 0;padding: 0.3em;box-sizing: border-box;text-align: center;}#sk-container-id-1 label.sk-toggleable__label-arrow:before {content: \"▸\";float: left;margin-right: 0.25em;color: #696969;}#sk-container-id-1 label.sk-toggleable__label-arrow:hover:before {color: black;}#sk-container-id-1 div.sk-estimator:hover label.sk-toggleable__label-arrow:before {color: black;}#sk-container-id-1 div.sk-toggleable__content {max-height: 0;max-width: 0;overflow: hidden;text-align: left;background-color: #f0f8ff;}#sk-container-id-1 div.sk-toggleable__content pre {margin: 0.2em;color: black;border-radius: 0.25em;background-color: #f0f8ff;}#sk-container-id-1 input.sk-toggleable__control:checked~div.sk-toggleable__content {max-height: 200px;max-width: 100%;overflow: auto;}#sk-container-id-1 input.sk-toggleable__control:checked~label.sk-toggleable__label-arrow:before {content: \"▾\";}#sk-container-id-1 div.sk-estimator input.sk-toggleable__control:checked~label.sk-toggleable__label {background-color: #d4ebff;}#sk-container-id-1 div.sk-label input.sk-toggleable__control:checked~label.sk-toggleable__label {background-color: #d4ebff;}#sk-container-id-1 input.sk-hidden--visually {border: 0;clip: rect(1px 1px 1px 1px);clip: rect(1px, 1px, 1px, 1px);height: 1px;margin: -1px;overflow: hidden;padding: 0;position: absolute;width: 1px;}#sk-container-id-1 div.sk-estimator {font-family: monospace;background-color: #f0f8ff;border: 1px dotted black;border-radius: 0.25em;box-sizing: border-box;margin-bottom: 0.5em;}#sk-container-id-1 div.sk-estimator:hover {background-color: #d4ebff;}#sk-container-id-1 div.sk-parallel-item::after {content: \"\";width: 100%;border-bottom: 1px solid gray;flex-grow: 1;}#sk-container-id-1 div.sk-label:hover label.sk-toggleable__label {background-color: #d4ebff;}#sk-container-id-1 div.sk-serial::before {content: \"\";position: absolute;border-left: 1px solid gray;box-sizing: border-box;top: 0;bottom: 0;left: 50%;z-index: 0;}#sk-container-id-1 div.sk-serial {display: flex;flex-direction: column;align-items: center;background-color: white;padding-right: 0.2em;padding-left: 0.2em;position: relative;}#sk-container-id-1 div.sk-item {position: relative;z-index: 1;}#sk-container-id-1 div.sk-parallel {display: flex;align-items: stretch;justify-content: center;background-color: white;position: relative;}#sk-container-id-1 div.sk-item::before, #sk-container-id-1 div.sk-parallel-item::before {content: \"\";position: absolute;border-left: 1px solid gray;box-sizing: border-box;top: 0;bottom: 0;left: 50%;z-index: -1;}#sk-container-id-1 div.sk-parallel-item {display: flex;flex-direction: column;z-index: 1;position: relative;background-color: white;}#sk-container-id-1 div.sk-parallel-item:first-child::after {align-self: flex-end;width: 50%;}#sk-container-id-1 div.sk-parallel-item:last-child::after {align-self: flex-start;width: 50%;}#sk-container-id-1 div.sk-parallel-item:only-child::after {width: 0;}#sk-container-id-1 div.sk-dashed-wrapped {border: 1px dashed gray;margin: 0 0.4em 0.5em 0.4em;box-sizing: border-box;padding-bottom: 0.4em;background-color: white;}#sk-container-id-1 div.sk-label label {font-family: monospace;font-weight: bold;display: inline-block;line-height: 1.2em;}#sk-container-id-1 div.sk-label-container {text-align: center;}#sk-container-id-1 div.sk-container {/* jupyter's `normalize.less` sets `[hidden] { display: none; }` but bootstrap.min.css set `[hidden] { display: none !important; }` so we also need the `!important` here to be able to override the default hidden behavior on the sphinx rendered scikit-learn.org. See: https://github.com/scikit-learn/scikit-learn/issues/21755 */display: inline-block !important;position: relative;}#sk-container-id-1 div.sk-text-repr-fallback {display: none;}</style><div id=\"sk-container-id-1\" class=\"sk-top-container\"><div class=\"sk-text-repr-fallback\"><pre>Normalizer()</pre><b>In a Jupyter environment, please rerun this cell to show the HTML representation or trust the notebook. <br />On GitHub, the HTML representation is unable to render, please try loading this page with nbviewer.org.</b></div><div class=\"sk-container\" hidden><div class=\"sk-item\"><div class=\"sk-estimator sk-toggleable\"><input class=\"sk-toggleable__control sk-hidden--visually\" id=\"sk-estimator-id-1\" type=\"checkbox\" checked><label for=\"sk-estimator-id-1\" class=\"sk-toggleable__label sk-toggleable__label-arrow\">Normalizer</label><div class=\"sk-toggleable__content\"><pre>Normalizer()</pre></div></div></div></div></div>"
      ],
      "text/plain": [
       "Normalizer()"
      ]
     },
     "execution_count": 17,
     "metadata": {},
     "output_type": "execute_result"
    }
   ],
   "source": [
    "norm_scl = Normalizer()\n",
    "\n",
    "norm_scl.fit(X_train)"
   ]
  },
  {
   "cell_type": "code",
   "execution_count": 18,
   "metadata": {
    "execution": {
     "iopub.execute_input": "2024-04-16T17:19:10.399960Z",
     "iopub.status.busy": "2024-04-16T17:19:10.399663Z",
     "iopub.status.idle": "2024-04-16T17:19:10.632820Z",
     "shell.execute_reply": "2024-04-16T17:19:10.632036Z",
     "shell.execute_reply.started": "2024-04-16T17:19:10.399934Z"
    }
   },
   "outputs": [],
   "source": [
    "df_x = norm_scl.transform(df_x)"
   ]
  },
  {
   "cell_type": "code",
   "execution_count": 19,
   "metadata": {
    "execution": {
     "iopub.execute_input": "2024-04-16T17:19:10.635131Z",
     "iopub.status.busy": "2024-04-16T17:19:10.634176Z",
     "iopub.status.idle": "2024-04-16T17:19:10.917604Z",
     "shell.execute_reply": "2024-04-16T17:19:10.916821Z",
     "shell.execute_reply.started": "2024-04-16T17:19:10.635076Z"
    }
   },
   "outputs": [],
   "source": [
    "X_train = norm_scl.transform(X_train)\n",
    "X_test = norm_scl.transform(X_test)"
   ]
  },
  {
   "cell_type": "code",
   "execution_count": 20,
   "metadata": {
    "execution": {
     "iopub.execute_input": "2024-04-16T17:19:10.919553Z",
     "iopub.status.busy": "2024-04-16T17:19:10.918901Z",
     "iopub.status.idle": "2024-04-16T17:19:10.925161Z",
     "shell.execute_reply": "2024-04-16T17:19:10.924154Z",
     "shell.execute_reply.started": "2024-04-16T17:19:10.919513Z"
    }
   },
   "outputs": [
    {
     "name": "stdout",
     "output_type": "stream",
     "text": [
      "Normalized X_train:\n",
      "[0. 0. 0. ... 0. 0. 0.]\n"
     ]
    }
   ],
   "source": [
    "print(\"Normalized X_train:\")\n",
    "print(X_train[0])"
   ]
  },
  {
   "cell_type": "markdown",
   "metadata": {},
   "source": [
    "### Define node Feature and Lable & Create Data object"
   ]
  },
  {
   "cell_type": "code",
   "execution_count": 21,
   "metadata": {
    "execution": {
     "iopub.execute_input": "2024-04-16T17:19:10.926892Z",
     "iopub.status.busy": "2024-04-16T17:19:10.926463Z",
     "iopub.status.idle": "2024-04-16T17:19:11.157327Z",
     "shell.execute_reply": "2024-04-16T17:19:11.156476Z",
     "shell.execute_reply.started": "2024-04-16T17:19:10.926860Z"
    },
    "tags": []
   },
   "outputs": [],
   "source": [
    "# Define the node features\n",
    "x = torch.tensor(df_x, dtype=torch.float).float()\n",
    "\n",
    "# Define the node labels\n",
    "y = torch.tensor(y, dtype=torch.float).long().reshape(-1)\n",
    "\n",
    "# Create the Data object\n",
    "data = Data(x=x, y=y)\n",
    "data = data.to(device)"
   ]
  },
  {
   "cell_type": "markdown",
   "metadata": {},
   "source": [
    "### Define Train and Test Mask"
   ]
  },
  {
   "cell_type": "code",
   "execution_count": 22,
   "metadata": {
    "execution": {
     "iopub.execute_input": "2024-04-16T17:19:11.158910Z",
     "iopub.status.busy": "2024-04-16T17:19:11.158563Z",
     "iopub.status.idle": "2024-04-16T17:19:11.184801Z",
     "shell.execute_reply": "2024-04-16T17:19:11.183993Z",
     "shell.execute_reply.started": "2024-04-16T17:19:11.158878Z"
    }
   },
   "outputs": [
    {
     "data": {
      "text/plain": [
       "tensor([ True,  True,  True,  ..., False, False, False])"
      ]
     },
     "execution_count": 22,
     "metadata": {},
     "output_type": "execute_result"
    }
   ],
   "source": [
    "# train_mask = np.array([random.random() < 0.8 for _ in data.x])\n",
    "train_mask = torch.BoolTensor([True]*(train_numb) + [False]*test_numb).view(-1)\n",
    "train_mask"
   ]
  },
  {
   "cell_type": "code",
   "execution_count": 23,
   "metadata": {
    "execution": {
     "iopub.execute_input": "2024-04-16T17:19:11.186204Z",
     "iopub.status.busy": "2024-04-16T17:19:11.185830Z",
     "iopub.status.idle": "2024-04-16T17:19:11.193634Z",
     "shell.execute_reply": "2024-04-16T17:19:11.192741Z",
     "shell.execute_reply.started": "2024-04-16T17:19:11.186171Z"
    }
   },
   "outputs": [
    {
     "data": {
      "text/plain": [
       "tensor([0, 0, 0,  ..., 1, 1, 1], dtype=torch.uint8)"
      ]
     },
     "execution_count": 23,
     "metadata": {},
     "output_type": "execute_result"
    }
   ],
   "source": [
    "test_mask = np.invert(train_mask)\n",
    "test_mask"
   ]
  },
  {
   "cell_type": "code",
   "execution_count": 24,
   "metadata": {
    "execution": {
     "iopub.execute_input": "2024-04-16T17:19:11.194989Z",
     "iopub.status.busy": "2024-04-16T17:19:11.194736Z",
     "iopub.status.idle": "2024-04-16T17:19:11.202064Z",
     "shell.execute_reply": "2024-04-16T17:19:11.201245Z",
     "shell.execute_reply.started": "2024-04-16T17:19:11.194966Z"
    }
   },
   "outputs": [
    {
     "name": "stderr",
     "output_type": "stream",
     "text": [
      "/tmp/ipykernel_34/950961007.py:1: UserWarning: To copy construct from a tensor, it is recommended to use sourceTensor.clone().detach() or sourceTensor.clone().detach().requires_grad_(True), rather than torch.tensor(sourceTensor).\n",
      "  data.train_mask = torch.tensor(train_mask, dtype=torch.bool)\n",
      "/tmp/ipykernel_34/950961007.py:2: UserWarning: To copy construct from a tensor, it is recommended to use sourceTensor.clone().detach() or sourceTensor.clone().detach().requires_grad_(True), rather than torch.tensor(sourceTensor).\n",
      "  data.test_mask = torch.tensor(test_mask, dtype=torch.bool)\n"
     ]
    }
   ],
   "source": [
    "data.train_mask = torch.tensor(train_mask, dtype=torch.bool)\n",
    "data.test_mask = torch.tensor(test_mask, dtype=torch.bool)"
   ]
  },
  {
   "cell_type": "markdown",
   "metadata": {},
   "source": [
    "### Print some quick statistics about the data:"
   ]
  },
  {
   "cell_type": "code",
   "execution_count": 25,
   "metadata": {
    "colab": {
     "base_uri": "https://localhost:8080/"
    },
    "execution": {
     "iopub.execute_input": "2024-04-16T17:19:11.207112Z",
     "iopub.status.busy": "2024-04-16T17:19:11.206822Z",
     "iopub.status.idle": "2024-04-16T17:19:11.212214Z",
     "shell.execute_reply": "2024-04-16T17:19:11.211360Z",
     "shell.execute_reply.started": "2024-04-16T17:19:11.207088Z"
    },
    "id": "8aOt8HwfFrH_",
    "outputId": "b7043e70-aafe-4b7d-c877-83feed65c12b"
   },
   "outputs": [
    {
     "name": "stdout",
     "output_type": "stream",
     "text": [
      "Number of nodes:  21048\n"
     ]
    }
   ],
   "source": [
    "# number of nodes\n",
    "print(\"Number of nodes: \", data.num_nodes)"
   ]
  },
  {
   "cell_type": "code",
   "execution_count": 26,
   "metadata": {
    "colab": {
     "base_uri": "https://localhost:8080/"
    },
    "execution": {
     "iopub.execute_input": "2024-04-16T17:19:11.213455Z",
     "iopub.status.busy": "2024-04-16T17:19:11.213216Z",
     "iopub.status.idle": "2024-04-16T17:19:11.222285Z",
     "shell.execute_reply": "2024-04-16T17:19:11.221392Z",
     "shell.execute_reply.started": "2024-04-16T17:19:11.213433Z"
    },
    "id": "qGJKbv-4GAtY",
    "outputId": "8c2a45dc-0b4d-4027-b252-5e48ef787cd6"
   },
   "outputs": [
    {
     "name": "stdout",
     "output_type": "stream",
     "text": [
      "Shape of sample nodes:  torch.Size([21048, 1040])\n"
     ]
    }
   ],
   "source": [
    "# sample nodes from the graph\n",
    "print(\"Shape of sample nodes: \", data.x.shape)"
   ]
  },
  {
   "cell_type": "code",
   "execution_count": 27,
   "metadata": {
    "colab": {
     "base_uri": "https://localhost:8080/"
    },
    "execution": {
     "iopub.execute_input": "2024-04-16T17:19:11.223401Z",
     "iopub.status.busy": "2024-04-16T17:19:11.223168Z",
     "iopub.status.idle": "2024-04-16T17:19:11.235494Z",
     "shell.execute_reply": "2024-04-16T17:19:11.234274Z",
     "shell.execute_reply.started": "2024-04-16T17:19:11.223379Z"
    },
    "id": "MzITbLkpGIUP",
    "outputId": "7a95cc3c-67dc-4050-e22a-556928cefae8"
   },
   "outputs": [
    {
     "name": "stdout",
     "output_type": "stream",
     "text": [
      "# of nodes to train on:  19937\n",
      "# of nodes to test on:  1111\n"
     ]
    }
   ],
   "source": [
    "# check training nodes\n",
    "print(\"# of nodes to train on: \", data.train_mask.sum().item())\n",
    "\n",
    "# check test nodes\n",
    "print(\"# of nodes to test on: \", data.test_mask.sum().item())"
   ]
  },
  {
   "cell_type": "code",
   "execution_count": 28,
   "metadata": {
    "colab": {
     "base_uri": "https://localhost:8080/"
    },
    "execution": {
     "iopub.execute_input": "2024-04-16T17:19:11.236804Z",
     "iopub.status.busy": "2024-04-16T17:19:11.236534Z",
     "iopub.status.idle": "2024-04-16T17:19:11.242068Z",
     "shell.execute_reply": "2024-04-16T17:19:11.241023Z",
     "shell.execute_reply.started": "2024-04-16T17:19:11.236781Z"
    },
    "id": "gK7-K6uYH_Iu",
    "outputId": "0613a450-caf0-4137-c00f-a45ed8db412f"
   },
   "outputs": [
    {
     "name": "stdout",
     "output_type": "stream",
     "text": [
      "X shape:  torch.Size([21048, 1040])\n",
      "Y shape:  torch.Size([21048])\n"
     ]
    }
   ],
   "source": [
    "print(\"X shape: \", data.x.shape)\n",
    "# print(\"Edge shape: \", data.edge_index.shape)\n",
    "print(\"Y shape: \", data.y.shape)"
   ]
  },
  {
   "cell_type": "markdown",
   "metadata": {
    "id": "TUGNxhBOIuYe"
   },
   "source": [
    "### Define DynamicEdgeConv"
   ]
  },
  {
   "cell_type": "code",
   "execution_count": 29,
   "metadata": {
    "execution": {
     "iopub.execute_input": "2024-04-16T17:19:11.243402Z",
     "iopub.status.busy": "2024-04-16T17:19:11.243119Z",
     "iopub.status.idle": "2024-04-16T17:19:11.252093Z",
     "shell.execute_reply": "2024-04-16T17:19:11.251365Z",
     "shell.execute_reply.started": "2024-04-16T17:19:11.243379Z"
    }
   },
   "outputs": [],
   "source": [
    "class EdgeConv(MessagePassing):\n",
    "    def __init__(self, in_channels, out_channels):\n",
    "        super().__init__(aggr='sum')\n",
    "        self.mlp = Seq(Linear(2 * in_channels, out_channels), ReLU(), Linear(out_channels, out_channels))\n",
    "\n",
    "    def forward(self, x, edge_index):\n",
    "        return self.propagate(edge_index, x=x)\n",
    "\n",
    "    def message(self, x_i, x_j):\n",
    "        tmp = torch.cat([x_i, x_j - x_i], dim=1)  # tmp has shape [E, 2 * in_channels]\n",
    "        return self.mlp(tmp)"
   ]
  },
  {
   "cell_type": "code",
   "execution_count": 30,
   "metadata": {
    "execution": {
     "iopub.execute_input": "2024-04-16T17:19:11.253272Z",
     "iopub.status.busy": "2024-04-16T17:19:11.252988Z",
     "iopub.status.idle": "2024-04-16T17:19:11.261976Z",
     "shell.execute_reply": "2024-04-16T17:19:11.261294Z",
     "shell.execute_reply.started": "2024-04-16T17:19:11.253250Z"
    }
   },
   "outputs": [],
   "source": [
    "class DynamicEdgeConv(EdgeConv):\n",
    "    def __init__(self, in_channels, out_channels, k=5):\n",
    "        super().__init__(in_channels, out_channels)\n",
    "        self.k = k\n",
    "\n",
    "    def forward(self, x, batch=None):\n",
    "        edge_index = knn_graph(x, self.k, batch, loop=False, flow=self.flow)\n",
    "        return super().forward(x, edge_index)"
   ]
  },
  {
   "cell_type": "markdown",
   "metadata": {},
   "source": [
    "### Define Model"
   ]
  },
  {
   "cell_type": "code",
   "execution_count": 31,
   "metadata": {
    "execution": {
     "iopub.execute_input": "2024-04-16T17:19:11.263297Z",
     "iopub.status.busy": "2024-04-16T17:19:11.262922Z",
     "iopub.status.idle": "2024-04-16T17:19:11.275628Z",
     "shell.execute_reply": "2024-04-16T17:19:11.274806Z",
     "shell.execute_reply.started": "2024-04-16T17:19:11.263273Z"
    },
    "id": "q0AiwyWrJGhj"
   },
   "outputs": [],
   "source": [
    "class DEC(torch.nn.Module):\n",
    "    def __init__(self, k1, k2):\n",
    "        super().__init__()\n",
    "        self.conv1 = DynamicEdgeConv(data.num_features, 256, k=k1)\n",
    "        self.conv2 = DynamicEdgeConv(256, 50, k=k2)\n",
    "        self.fc1 = nn.Linear(50, no_out)\n",
    "        self.dropout = nn.Dropout(p=0.5)\n",
    "\n",
    "    def forward(self, data):\n",
    "        x = data.x\n",
    "        x = self.conv1(x)\n",
    "        x = F.relu(x)\n",
    "        x = self.dropout(x)\n",
    "        x = self.conv2(x)\n",
    "        x = F.relu(x)\n",
    "        x = self.dropout(x)\n",
    "        x = self.fc1(x)\n",
    "\n",
    "        return x"
   ]
  },
  {
   "cell_type": "code",
   "execution_count": 32,
   "metadata": {
    "execution": {
     "iopub.execute_input": "2024-04-16T17:19:11.277256Z",
     "iopub.status.busy": "2024-04-16T17:19:11.276672Z",
     "iopub.status.idle": "2024-04-16T17:19:11.284811Z",
     "shell.execute_reply": "2024-04-16T17:19:11.284049Z",
     "shell.execute_reply.started": "2024-04-16T17:19:11.277231Z"
    }
   },
   "outputs": [],
   "source": [
    "# useful function for computing accuracy\n",
    "def compute_accuracy(pred_y, y):\n",
    "    return (pred_y == y).sum()"
   ]
  },
  {
   "cell_type": "code",
   "execution_count": 33,
   "metadata": {
    "execution": {
     "iopub.execute_input": "2024-04-16T17:19:11.286027Z",
     "iopub.status.busy": "2024-04-16T17:19:11.285757Z",
     "iopub.status.idle": "2024-04-16T17:19:11.313771Z",
     "shell.execute_reply": "2024-04-16T17:19:11.312965Z",
     "shell.execute_reply.started": "2024-04-16T17:19:11.285986Z"
    }
   },
   "outputs": [
    {
     "data": {
      "text/plain": [
       "tensor([6, 6, 6,  ..., 0, 0, 0], device='cuda:0')"
      ]
     },
     "execution_count": 33,
     "metadata": {},
     "output_type": "execute_result"
    }
   ],
   "source": [
    "data.y"
   ]
  },
  {
   "cell_type": "code",
   "execution_count": 1,
   "metadata": {},
   "outputs": [],
   "source": [
    "total_accuracies = []\n",
    "total_losses = []"
   ]
  },
  {
   "cell_type": "markdown",
   "metadata": {},
   "source": [
    "### Train the model"
   ]
  },
  {
   "cell_type": "code",
   "execution_count": 34,
   "metadata": {
    "colab": {
     "base_uri": "https://localhost:8080/"
    },
    "execution": {
     "iopub.execute_input": "2024-04-16T17:19:11.315069Z",
     "iopub.status.busy": "2024-04-16T17:19:11.314795Z",
     "iopub.status.idle": "2024-04-16T17:19:11.324794Z",
     "shell.execute_reply": "2024-04-16T17:19:11.323911Z",
     "shell.execute_reply.started": "2024-04-16T17:19:11.315046Z"
    },
    "id": "m39ZbE6RKyim",
    "outputId": "2e7a3a02-e654-4c11-9c50-d40eab4e6c45"
   },
   "outputs": [],
   "source": [
    "def train_fun(k1, k2, lr):\n",
    "    model = DEC(k1, k2).to(device)\n",
    "    print(\"model uploaded\")\n",
    "    optimizer = torch.optim.Adam(model.parameters(), lr=lr, weight_decay=5e-4)\n",
    "    loss_function = nn.CrossEntropyLoss()\n",
    "    \n",
    "    losses = []\n",
    "    accuracies = []\n",
    "    test_accu = []\n",
    "\n",
    "    # epoch = 0\n",
    "    for epoch in range(25):\n",
    "        model.train()\n",
    "        optimizer.zero_grad()\n",
    "        out = model(data)\n",
    "        loss = loss_function(out[data.train_mask], data.y[data.train_mask])\n",
    "        correct = compute_accuracy(out.argmax(dim=1)[data.train_mask], data.y[data.train_mask])\n",
    "        acc = int(correct) / int(data.train_mask.sum())\n",
    "        losses.append(loss.item())\n",
    "        accuracies.append(acc)\n",
    "\n",
    "\n",
    "        loss.backward()\n",
    "        optimizer.step()\n",
    "\n",
    "        # epoch+=1\n",
    "\n",
    "        if (epoch) % 1 == 0:\n",
    "            model.eval()\n",
    "            pred = model(data).argmax(dim=1)\n",
    "            correct = compute_accuracy(pred[data.test_mask], data.y[data.test_mask])\n",
    "            acc_test = int(correct) / int(data.test_mask.sum())\n",
    "            test_accu.append(acc_test)\n",
    "            print(f'Epoch: {epoch}, \\tAccuracy: {acc}, \\tTest accuracy: {acc_test}')\n",
    "          \n",
    "    res = f\"best performance on train: {max(accuracies)}, test: {max(test_accu)}\"  \n",
    "    print(res)\n",
    "    #plt.plot(accuracies)\n",
    "    total_accuracies.append(test_accu)\n",
    "    plt.plot(test_accu)\n",
    "    #plt.title(Accuracy)\n",
    "    #plt.legend(['RSSI acc.', 'DRSS acc.'])\n",
    "   #plt.savefig('with DRSS.png')\n",
    "    plt.locator_params(axis='x', nbins=5)  # Adjust the number of ticks on the x-axis\n",
    "    plt.locator_params(axis='y', nbins=10)  # Adjust the number of ticks on the y-axis\n",
    "    plt.show()"
   ]
  },
  {
   "cell_type": "code",
   "execution_count": 35,
   "metadata": {
    "execution": {
     "iopub.execute_input": "2024-04-16T17:19:11.326811Z",
     "iopub.status.busy": "2024-04-16T17:19:11.326028Z",
     "iopub.status.idle": "2024-04-16T17:19:11.336330Z",
     "shell.execute_reply": "2024-04-16T17:19:11.335609Z",
     "shell.execute_reply.started": "2024-04-16T17:19:11.326779Z"
    }
   },
   "outputs": [],
   "source": [
    "#train_fun(15, 10, 0.009)"
   ]
  },
  {
   "cell_type": "markdown",
   "metadata": {},
   "source": [
    "### Grid Search with varying k1 and k2"
   ]
  },
  {
   "cell_type": "code",
   "execution_count": 36,
   "metadata": {
    "execution": {
     "iopub.execute_input": "2024-04-16T17:19:11.337639Z",
     "iopub.status.busy": "2024-04-16T17:19:11.337367Z",
     "iopub.status.idle": "2024-04-16T22:41:14.846979Z",
     "shell.execute_reply": "2024-04-16T22:41:14.846052Z",
     "shell.execute_reply.started": "2024-04-16T17:19:11.337617Z"
    }
   },
   "outputs": [
    {
     "name": "stdout",
     "output_type": "stream",
     "text": [
      "Doing for:  30 15\n",
      "model uploaded\n",
      "Epoch: 0, \tAccuracy: 0.08010232231529317, \tTest accuracy: 0.0999099909990999\n",
      "Epoch: 1, \tAccuracy: 0.09846014947083312, \tTest accuracy: 0.0747074707470747\n",
      "Epoch: 2, \tAccuracy: 0.10026583738777148, \tTest accuracy: 0.12061206120612061\n",
      "Epoch: 3, \tAccuracy: 0.1173195566033004, \tTest accuracy: 0.16111611161116113\n",
      "Epoch: 4, \tAccuracy: 0.16782866027988164, \tTest accuracy: 0.3213321332133213\n",
      "Epoch: 5, \tAccuracy: 0.22566083161960174, \tTest accuracy: 0.43114311431143115\n",
      "Epoch: 6, \tAccuracy: 0.2568089481867884, \tTest accuracy: 0.43474347434743477\n",
      "Epoch: 7, \tAccuracy: 0.33676079650900337, \tTest accuracy: 0.5022502250225023\n",
      "Epoch: 8, \tAccuracy: 0.3771881426493454, \tTest accuracy: 0.5661566156615662\n",
      "Epoch: 9, \tAccuracy: 0.4247880824597482, \tTest accuracy: 0.6003600360036003\n",
      "Epoch: 10, \tAccuracy: 0.48297135978331746, \tTest accuracy: 0.7218721872187218\n",
      "Epoch: 11, \tAccuracy: 0.5280633997090836, \tTest accuracy: 0.7047704770477048\n",
      "Epoch: 12, \tAccuracy: 0.5912123188042333, \tTest accuracy: 0.8163816381638164\n",
      "Epoch: 13, \tAccuracy: 0.6327932988915083, \tTest accuracy: 0.8973897389738974\n",
      "Epoch: 14, \tAccuracy: 0.6700606911772082, \tTest accuracy: 0.8721872187218722\n",
      "Epoch: 15, \tAccuracy: 0.6976977479059036, \tTest accuracy: 0.8811881188118812\n",
      "Epoch: 16, \tAccuracy: 0.727943020514621, \tTest accuracy: 0.9504950495049505\n",
      "Epoch: 17, \tAccuracy: 0.7613482469779806, \tTest accuracy: 0.9522952295229523\n",
      "Epoch: 18, \tAccuracy: 0.7902392536489943, \tTest accuracy: 0.954995499549955\n",
      "Epoch: 19, \tAccuracy: 0.8106034007122436, \tTest accuracy: 0.9567956795679567\n",
      "Epoch: 20, \tAccuracy: 0.8291117018608617, \tTest accuracy: 0.9405940594059405\n",
      "Epoch: 21, \tAccuracy: 0.851331694838742, \tTest accuracy: 0.9360936093609361\n",
      "Epoch: 22, \tAccuracy: 0.8644229322365451, \tTest accuracy: 0.9378937893789379\n",
      "Epoch: 23, \tAccuracy: 0.8748557957566334, \tTest accuracy: 0.9324932493249325\n",
      "Epoch: 24, \tAccuracy: 0.8865426092190399, \tTest accuracy: 0.9342934293429342\n",
      "best performance on train: 0.8865426092190399, test: 0.9567956795679567\n"
     ]
    },
    {
     "data": {
      "image/png": "[encoded data removed]",
      "text/plain": [
       "<Figure size 640x480 with 1 Axes>"
      ]
     },
     "metadata": {},
     "output_type": "display_data"
    },
    {
     "name": "stdout",
     "output_type": "stream",
     "text": [
      "Doing for:  30 10\n",
      "model uploaded\n",
      "Epoch: 0, \tAccuracy: 0.08391433013994082, \tTest accuracy: 0.07650765076507651\n",
      "Epoch: 1, \tAccuracy: 0.08050358629683503, \tTest accuracy: 0.06030603060306031\n",
      "Epoch: 2, \tAccuracy: 0.10563274314089381, \tTest accuracy: 0.08280828082808281\n",
      "Epoch: 3, \tAccuracy: 0.20384210262326327, \tTest accuracy: 0.07200720072007201\n",
      "Epoch: 4, \tAccuracy: 0.2540001003159954, \tTest accuracy: 0.1116111611161116\n",
      "Epoch: 5, \tAccuracy: 0.2780759392085068, \tTest accuracy: 0.1701170117011701\n",
      "Epoch: 6, \tAccuracy: 0.3224657671665747, \tTest accuracy: 0.3483348334833483\n",
      "Epoch: 7, \tAccuracy: 0.3743792947785524, \tTest accuracy: 0.45364536453645365\n",
      "Epoch: 8, \tAccuracy: 0.4062797813111301, \tTest accuracy: 0.5031503150315032\n",
      "Epoch: 9, \tAccuracy: 0.44374780558760096, \tTest accuracy: 0.6264626462646264\n",
      "Epoch: 10, \tAccuracy: 0.5118623664543311, \tTest accuracy: 0.7578757875787578\n",
      "Epoch: 11, \tAccuracy: 0.5779204494156593, \tTest accuracy: 0.7983798379837984\n",
      "Epoch: 12, \tAccuracy: 0.6305863469930281, \tTest accuracy: 0.7461746174617462\n",
      "Epoch: 13, \tAccuracy: 0.6688067412348899, \tTest accuracy: 0.8577857785778578\n",
      "Epoch: 14, \tAccuracy: 0.7148016251191253, \tTest accuracy: 0.8388838883888389\n",
      "Epoch: 15, \tAccuracy: 0.7468525856447811, \tTest accuracy: 0.8901890189018902\n",
      "Epoch: 16, \tAccuracy: 0.7811606560666098, \tTest accuracy: 0.9378937893789379\n",
      "Epoch: 17, \tAccuracy: 0.8186286803430807, \tTest accuracy: 0.9432943294329433\n",
      "Epoch: 18, \tAccuracy: 0.8453628931133069, \tTest accuracy: 0.9387938793879388\n",
      "Epoch: 19, \tAccuracy: 0.862767718312685, \tTest accuracy: 0.9378937893789379\n",
      "Epoch: 20, \tAccuracy: 0.8746551637658625, \tTest accuracy: 0.946894689468947\n",
      "Epoch: 21, \tAccuracy: 0.8926117269398606, \tTest accuracy: 0.9423942394239424\n",
      "Epoch: 22, \tAccuracy: 0.9076591262476802, \tTest accuracy: 0.9360936093609361\n",
      "Epoch: 23, \tAccuracy: 0.9126749260169534, \tTest accuracy: 0.9342934293429342\n",
      "Epoch: 24, \tAccuracy: 0.9220544715854944, \tTest accuracy: 0.9324932493249325\n",
      "best performance on train: 0.9220544715854944, test: 0.946894689468947\n"
     ]
    },
    {
     "data": {
      "image/png": "[encoded data removed]",
      "text/plain": [
       "<Figure size 640x480 with 1 Axes>"
      ]
     },
     "metadata": {},
     "output_type": "display_data"
    },
    {
     "name": "stdout",
     "output_type": "stream",
     "text": [
      "Doing for:  30 6\n",
      "model uploaded\n",
      "Epoch: 0, \tAccuracy: 0.09329387570848172, \tTest accuracy: 0.09900990099009901\n",
      "Epoch: 1, \tAccuracy: 0.08802728595074484, \tTest accuracy: 0.021602160216021602\n",
      "Epoch: 2, \tAccuracy: 0.12343883232181371, \tTest accuracy: 0.2826282628262826\n",
      "Epoch: 3, \tAccuracy: 0.22576114761498722, \tTest accuracy: 0.13861386138613863\n",
      "Epoch: 4, \tAccuracy: 0.27411345739078097, \tTest accuracy: 0.35553555355535554\n",
      "Epoch: 5, \tAccuracy: 0.3576265235491799, \tTest accuracy: 0.3438343834383438\n",
      "Epoch: 6, \tAccuracy: 0.42443697647589906, \tTest accuracy: 0.5355535553555355\n",
      "Epoch: 7, \tAccuracy: 0.4865325776195014, \tTest accuracy: 0.5346534653465347\n",
      "Epoch: 8, \tAccuracy: 0.5518382906154387, \tTest accuracy: 0.6714671467146714\n",
      "Epoch: 9, \tAccuracy: 0.6123288358328736, \tTest accuracy: 0.6624662466246625\n",
      "Epoch: 10, \tAccuracy: 0.6708130611425992, \tTest accuracy: 0.738973897389739\n",
      "Epoch: 11, \tAccuracy: 0.7221246927822641, \tTest accuracy: 0.8514851485148515\n",
      "Epoch: 12, \tAccuracy: 0.7630536188995335, \tTest accuracy: 0.8541854185418541\n",
      "Epoch: 13, \tAccuracy: 0.7921452575613182, \tTest accuracy: 0.8622862286228623\n",
      "Epoch: 14, \tAccuracy: 0.8169233084215278, \tTest accuracy: 0.8604860486048604\n",
      "Epoch: 15, \tAccuracy: 0.8425540452425139, \tTest accuracy: 0.8694869486948695\n",
      "Epoch: 16, \tAccuracy: 0.8585042885088028, \tTest accuracy: 0.9063906390639064\n",
      "Epoch: 17, \tAccuracy: 0.8736520038120078, \tTest accuracy: 0.9324932493249325\n",
      "Epoch: 18, \tAccuracy: 0.888047349149822, \tTest accuracy: 0.9387938793879388\n",
      "Epoch: 19, \tAccuracy: 0.8999347946029994, \tTest accuracy: 0.9441944194419442\n",
      "Epoch: 20, \tAccuracy: 0.9089130761899985, \tTest accuracy: 0.9450945094509451\n",
      "Epoch: 21, \tAccuracy: 0.9117720820584843, \tTest accuracy: 0.945994599459946\n",
      "Epoch: 22, \tAccuracy: 0.9183929377539248, \tTest accuracy: 0.9432943294329433\n",
      "Epoch: 23, \tAccuracy: 0.9234087375231981, \tTest accuracy: 0.9414941494149415\n",
      "Epoch: 24, \tAccuracy: 0.9268194813663039, \tTest accuracy: 0.9387938793879388\n",
      "best performance on train: 0.9268194813663039, test: 0.945994599459946\n"
     ]
    },
    {
     "data": {
      "image/png": "[encoded data removed]",
      "text/plain": [
       "<Figure size 640x480 with 1 Axes>"
      ]
     },
     "metadata": {},
     "output_type": "display_data"
    },
    {
     "name": "stdout",
     "output_type": "stream",
     "text": [
      "Doing for:  30 3\n",
      "model uploaded\n",
      "Epoch: 0, \tAccuracy: 0.07438431057832172, \tTest accuracy: 0.0999099909990999\n",
      "Epoch: 1, \tAccuracy: 0.12399057029643376, \tTest accuracy: 0.036003600360036005\n",
      "Epoch: 2, \tAccuracy: 0.16958419019912724, \tTest accuracy: 0.11251125112511251\n",
      "Epoch: 3, \tAccuracy: 0.21532828409489893, \tTest accuracy: 0.34743474347434744\n",
      "Epoch: 4, \tAccuracy: 0.31785123137884336, \tTest accuracy: 0.5931593159315932\n",
      "Epoch: 5, \tAccuracy: 0.4167628028289111, \tTest accuracy: 0.6687668766876688\n",
      "Epoch: 6, \tAccuracy: 0.5039374028188794, \tTest accuracy: 0.6831683168316832\n",
      "Epoch: 7, \tAccuracy: 0.579124241360285, \tTest accuracy: 0.7983798379837984\n",
      "Epoch: 8, \tAccuracy: 0.6556653458393941, \tTest accuracy: 0.9153915391539154\n",
      "Epoch: 9, \tAccuracy: 0.7230776947384261, \tTest accuracy: 0.9477947794779478\n",
      "Epoch: 10, \tAccuracy: 0.799668957215228, \tTest accuracy: 0.9513951395139514\n",
      "Epoch: 11, \tAccuracy: 0.8508802728595074, \tTest accuracy: 0.9450945094509451\n",
      "Epoch: 12, \tAccuracy: 0.8789185935697447, \tTest accuracy: 0.9414941494149415\n",
      "Epoch: 13, \tAccuracy: 0.9086622862015349, \tTest accuracy: 0.9387938793879388\n",
      "Epoch: 14, \tAccuracy: 0.9297286452324823, \tTest accuracy: 0.9378937893789379\n",
      "Epoch: 15, \tAccuracy: 0.9434217786025982, \tTest accuracy: 0.9342934293429342\n",
      "Epoch: 16, \tAccuracy: 0.9488388423534132, \tTest accuracy: 0.9342934293429342\n",
      "Epoch: 17, \tAccuracy: 0.9567136479911722, \tTest accuracy: 0.9405940594059405\n",
      "Epoch: 18, \tAccuracy: 0.9628830817073782, \tTest accuracy: 0.9414941494149415\n",
      "Epoch: 19, \tAccuracy: 0.967597933490495, \tTest accuracy: 0.9396939693969397\n",
      "Epoch: 20, \tAccuracy: 0.9705572553543662, \tTest accuracy: 0.9414941494149415\n",
      "Epoch: 21, \tAccuracy: 0.9750714751467121, \tTest accuracy: 0.9450945094509451\n",
      "Epoch: 22, \tAccuracy: 0.9754225811305612, \tTest accuracy: 0.9450945094509451\n",
      "Epoch: 23, \tAccuracy: 0.9765762150774941, \tTest accuracy: 0.9450945094509451\n",
      "Epoch: 24, \tAccuracy: 0.9796358529367508, \tTest accuracy: 0.9432943294329433\n",
      "best performance on train: 0.9796358529367508, test: 0.9513951395139514\n"
     ]
    },
    {
     "data": {
      "image/png": "[encoded data removed]",
      "text/plain": [
       "<Figure size 640x480 with 1 Axes>"
      ]
     },
     "metadata": {},
     "output_type": "display_data"
    },
    {
     "name": "stdout",
     "output_type": "stream",
     "text": [
      "Doing for:  30 1\n",
      "model uploaded\n",
      "Epoch: 0, \tAccuracy: 0.055976325425089034, \tTest accuracy: 0.021602160216021602\n",
      "Epoch: 1, \tAccuracy: 0.09479861563926369, \tTest accuracy: 0.041404140414041404\n",
      "Epoch: 2, \tAccuracy: 0.16346491448061393, \tTest accuracy: 0.1629162916291629\n",
      "Epoch: 3, \tAccuracy: 0.2557054722375483, \tTest accuracy: 0.3789378937893789\n",
      "Epoch: 4, \tAccuracy: 0.3046596779856548, \tTest accuracy: 0.4383438343834383\n",
      "Epoch: 5, \tAccuracy: 0.35125645784220294, \tTest accuracy: 0.531953195319532\n",
      "Epoch: 6, \tAccuracy: 0.3913828559963886, \tTest accuracy: 0.5391539153915391\n",
      "Epoch: 7, \tAccuracy: 0.4732407082309274, \tTest accuracy: 0.6795679567956796\n",
      "Epoch: 8, \tAccuracy: 0.5247028138636706, \tTest accuracy: 0.6948694869486949\n",
      "Epoch: 9, \tAccuracy: 0.5722525956763806, \tTest accuracy: 0.7695769576957696\n",
      "Epoch: 10, \tAccuracy: 0.6495962281185735, \tTest accuracy: 0.7731773177317732\n",
      "Epoch: 11, \tAccuracy: 0.696694587952049, \tTest accuracy: 0.9027902790279028\n",
      "Epoch: 12, \tAccuracy: 0.7500125394994231, \tTest accuracy: 0.9045904590459046\n",
      "Epoch: 13, \tAccuracy: 0.7834679239604755, \tTest accuracy: 0.9117911791179117\n",
      "Epoch: 14, \tAccuracy: 0.8171740984099914, \tTest accuracy: 0.9144914491449145\n",
      "Epoch: 15, \tAccuracy: 0.8397953553694136, \tTest accuracy: 0.9234923492349235\n",
      "Epoch: 16, \tAccuracy: 0.8652254601996289, \tTest accuracy: 0.9378937893789379\n",
      "Epoch: 17, \tAccuracy: 0.8741535837889352, \tTest accuracy: 0.9378937893789379\n",
      "Epoch: 18, \tAccuracy: 0.8897025630736821, \tTest accuracy: 0.9324932493249325\n",
      "Epoch: 19, \tAccuracy: 0.8939158348798716, \tTest accuracy: 0.9423942394239424\n",
      "Epoch: 20, \tAccuracy: 0.9102171841300095, \tTest accuracy: 0.936993699369937\n",
      "Epoch: 21, \tAccuracy: 0.9212017856247179, \tTest accuracy: 0.9351935193519352\n",
      "Epoch: 22, \tAccuracy: 0.9323870191101972, \tTest accuracy: 0.9378937893789379\n",
      "Epoch: 23, \tAccuracy: 0.9370517128956212, \tTest accuracy: 0.9324932493249325\n",
      "Epoch: 24, \tAccuracy: 0.939710086773336, \tTest accuracy: 0.9432943294329433\n",
      "best performance on train: 0.939710086773336, test: 0.9432943294329433\n"
     ]
    },
    {
     "data": {
      "image/png": "[encoded data removed]",
      "text/plain": [
       "<Figure size 640x480 with 1 Axes>"
      ]
     },
     "metadata": {},
     "output_type": "display_data"
    },
    {
     "name": "stdout",
     "output_type": "stream",
     "text": [
      "Doing for:  20 15\n",
      "model uploaded\n",
      "Epoch: 0, \tAccuracy: 0.06971961679289762, \tTest accuracy: 0.12871287128712872\n",
      "Epoch: 1, \tAccuracy: 0.08125595626222601, \tTest accuracy: 0.07650765076507651\n",
      "Epoch: 2, \tAccuracy: 0.09053518583538145, \tTest accuracy: 0.036003600360036005\n",
      "Epoch: 3, \tAccuracy: 0.11461102472789286, \tTest accuracy: 0.0927092709270927\n",
      "Epoch: 4, \tAccuracy: 0.1592014846767317, \tTest accuracy: 0.23222322232223222\n",
      "Epoch: 5, \tAccuracy: 0.2154286000902844, \tTest accuracy: 0.3114311431143114\n",
      "Epoch: 6, \tAccuracy: 0.2723077694738426, \tTest accuracy: 0.36633663366336633\n",
      "Epoch: 7, \tAccuracy: 0.332146260721272, \tTest accuracy: 0.40324032403240323\n",
      "Epoch: 8, \tAccuracy: 0.3937904398856398, \tTest accuracy: 0.5823582358235824\n",
      "Epoch: 9, \tAccuracy: 0.44354717359683, \tTest accuracy: 0.49324932493249324\n",
      "Epoch: 10, \tAccuracy: 0.48858905552490345, \tTest accuracy: 0.6426642664266426\n",
      "Epoch: 11, \tAccuracy: 0.5489291267492602, \tTest accuracy: 0.5256525652565257\n",
      "Epoch: 12, \tAccuracy: 0.5855946230626473, \tTest accuracy: 0.7479747974797479\n",
      "Epoch: 13, \tAccuracy: 0.6480413301900988, \tTest accuracy: 0.7614761476147615\n",
      "Epoch: 14, \tAccuracy: 0.6803430807042183, \tTest accuracy: 0.7785778577857786\n",
      "Epoch: 15, \tAccuracy: 0.7207704268445604, \tTest accuracy: 0.7902790279027903\n",
      "Epoch: 16, \tAccuracy: 0.7446957917439936, \tTest accuracy: 0.8343834383438344\n",
      "Epoch: 17, \tAccuracy: 0.7846717159051011, \tTest accuracy: 0.8838883888388839\n",
      "Epoch: 18, \tAccuracy: 0.8161709384561369, \tTest accuracy: 0.9081908190819082\n",
      "Epoch: 19, \tAccuracy: 0.83954456538095, \tTest accuracy: 0.90999099909991\n",
      "Epoch: 20, \tAccuracy: 0.861262978381903, \tTest accuracy: 0.9162916291629163\n",
      "Epoch: 21, \tAccuracy: 0.8791693835582084, \tTest accuracy: 0.9270927092709271\n",
      "Epoch: 22, \tAccuracy: 0.891407934995235, \tTest accuracy: 0.9324932493249325\n",
      "Epoch: 23, \tAccuracy: 0.8952701008175754, \tTest accuracy: 0.9342934293429342\n",
      "Epoch: 24, \tAccuracy: 0.9029944324622561, \tTest accuracy: 0.9396939693969397\n",
      "best performance on train: 0.9029944324622561, test: 0.9396939693969397\n"
     ]
    },
    {
     "data": {
      "image/png": "[encoded data removed]",
      "text/plain": [
       "<Figure size 640x480 with 1 Axes>"
      ]
     },
     "metadata": {},
     "output_type": "display_data"
    },
    {
     "name": "stdout",
     "output_type": "stream",
     "text": [
      "Doing for:  20 10\n",
      "model uploaded\n",
      "Epoch: 0, \tAccuracy: 0.09299292772232533, \tTest accuracy: 0.037803780378037805\n",
      "Epoch: 1, \tAccuracy: 0.11240407282941264, \tTest accuracy: 0.14491449144914492\n",
      "Epoch: 2, \tAccuracy: 0.13773386166424237, \tTest accuracy: 0.24032403240324032\n",
      "Epoch: 3, \tAccuracy: 0.15553995084516226, \tTest accuracy: 0.2727272727272727\n",
      "Epoch: 4, \tAccuracy: 0.19782314290013542, \tTest accuracy: 0.30423042304230424\n",
      "Epoch: 5, \tAccuracy: 0.22425640768420524, \tTest accuracy: 0.36543654365436545\n",
      "Epoch: 6, \tAccuracy: 0.26859607764458043, \tTest accuracy: 0.540954095409541\n",
      "Epoch: 7, \tAccuracy: 0.3557205196368561, \tTest accuracy: 0.6957695769576958\n",
      "Epoch: 8, \tAccuracy: 0.45001755529919246, \tTest accuracy: 0.7497749774977498\n",
      "Epoch: 9, \tAccuracy: 0.5268094497667654, \tTest accuracy: 0.8163816381638164\n",
      "Epoch: 10, \tAccuracy: 0.6029492902643326, \tTest accuracy: 0.8496849684968497\n",
      "Epoch: 11, \tAccuracy: 0.6688067412348899, \tTest accuracy: 0.8964896489648965\n",
      "Epoch: 12, \tAccuracy: 0.7182625269599238, \tTest accuracy: 0.8973897389738974\n",
      "Epoch: 13, \tAccuracy: 0.7739379043988563, \tTest accuracy: 0.9081908190819082\n",
      "Epoch: 14, \tAccuracy: 0.8100516627376235, \tTest accuracy: 0.9405940594059405\n",
      "Epoch: 15, \tAccuracy: 0.8501780608918093, \tTest accuracy: 0.9396939693969397\n",
      "Epoch: 16, \tAccuracy: 0.88709434719366, \tTest accuracy: 0.9513951395139514\n",
      "Epoch: 17, \tAccuracy: 0.9064553343030546, \tTest accuracy: 0.9441944194419442\n",
      "Epoch: 18, \tAccuracy: 0.9220544715854944, \tTest accuracy: 0.9441944194419442\n",
      "Epoch: 19, \tAccuracy: 0.9303305412047951, \tTest accuracy: 0.9387938793879388\n",
      "Epoch: 20, \tAccuracy: 0.9430706726187491, \tTest accuracy: 0.946894689468947\n",
      "Epoch: 21, \tAccuracy: 0.95300195616191, \tTest accuracy: 0.946894689468947\n",
      "Epoch: 22, \tAccuracy: 0.9591212318804233, \tTest accuracy: 0.9495949594959496\n",
      "Epoch: 23, \tAccuracy: 0.9615288157696745, \tTest accuracy: 0.9486948694869487\n",
      "Epoch: 24, \tAccuracy: 0.9650900336058584, \tTest accuracy: 0.9486948694869487\n",
      "best performance on train: 0.9650900336058584, test: 0.9513951395139514\n"
     ]
    },
    {
     "data": {
      "image/png": "[encoded data removed]",
      "text/plain": [
       "<Figure size 640x480 with 1 Axes>"
      ]
     },
     "metadata": {},
     "output_type": "display_data"
    },
    {
     "name": "stdout",
     "output_type": "stream",
     "text": [
      "Doing for:  20 6\n",
      "model uploaded\n",
      "Epoch: 0, \tAccuracy: 0.07177609469829964, \tTest accuracy: 0.0279027902790279\n",
      "Epoch: 1, \tAccuracy: 0.10021567939007875, \tTest accuracy: 0.23492349234923493\n",
      "Epoch: 2, \tAccuracy: 0.15508852886592767, \tTest accuracy: 0.13591359135913592\n",
      "Epoch: 3, \tAccuracy: 0.2001304107940011, \tTest accuracy: 0.42934293429342935\n",
      "Epoch: 4, \tAccuracy: 0.31955660330039626, \tTest accuracy: 0.36723672367236726\n",
      "Epoch: 5, \tAccuracy: 0.38596579224557354, \tTest accuracy: 0.6408640864086409\n",
      "Epoch: 6, \tAccuracy: 0.46230626473391184, \tTest accuracy: 0.6741674167416741\n",
      "Epoch: 7, \tAccuracy: 0.5370918392937754, \tTest accuracy: 0.6750675067506751\n",
      "Epoch: 8, \tAccuracy: 0.6142348397451973, \tTest accuracy: 0.8145814581458146\n",
      "Epoch: 9, \tAccuracy: 0.6778853388172744, \tTest accuracy: 0.8037803780378038\n",
      "Epoch: 10, \tAccuracy: 0.7317550283392686, \tTest accuracy: 0.9108910891089109\n",
      "Epoch: 11, \tAccuracy: 0.7824647640066209, \tTest accuracy: 0.918091809180918\n",
      "Epoch: 12, \tAccuracy: 0.817274414405377, \tTest accuracy: 0.9486948694869487\n",
      "Epoch: 13, \tAccuracy: 0.8545418066910769, \tTest accuracy: 0.936993699369937\n",
      "Epoch: 14, \tAccuracy: 0.8883482971359783, \tTest accuracy: 0.9405940594059405\n",
      "Epoch: 15, \tAccuracy: 0.9089130761899985, \tTest accuracy: 0.9486948694869487\n",
      "Epoch: 16, \tAccuracy: 0.919295781712394, \tTest accuracy: 0.9315931593159316\n",
      "Epoch: 17, \tAccuracy: 0.9290765912624768, \tTest accuracy: 0.9063906390639064\n",
      "Epoch: 18, \tAccuracy: 0.9372021868886994, \tTest accuracy: 0.9018901890189019\n",
      "Epoch: 19, \tAccuracy: 0.9437728845864473, \tTest accuracy: 0.9252925292529253\n",
      "Epoch: 20, \tAccuracy: 0.9496915283141897, \tTest accuracy: 0.9270927092709271\n",
      "Epoch: 21, \tAccuracy: 0.953754326127301, \tTest accuracy: 0.9270927092709271\n",
      "Epoch: 22, \tAccuracy: 0.9580177559311832, \tTest accuracy: 0.9207920792079208\n",
      "Epoch: 23, \tAccuracy: 0.9622310277373727, \tTest accuracy: 0.9207920792079208\n",
      "Epoch: 24, \tAccuracy: 0.9652405075989366, \tTest accuracy: 0.9216921692169217\n",
      "best performance on train: 0.9652405075989366, test: 0.9486948694869487\n"
     ]
    },
    {
     "data": {
      "image/png": "[encoded data removed]",
      "text/plain": [
       "<Figure size 640x480 with 1 Axes>"
      ]
     },
     "metadata": {},
     "output_type": "display_data"
    },
    {
     "name": "stdout",
     "output_type": "stream",
     "text": [
      "Doing for:  20 3\n",
      "model uploaded\n",
      "Epoch: 0, \tAccuracy: 0.07282941264984702, \tTest accuracy: 0.1035103510351035\n",
      "Epoch: 1, \tAccuracy: 0.11240407282941264, \tTest accuracy: 0.19801980198019803\n",
      "Epoch: 2, \tAccuracy: 0.2166825500326027, \tTest accuracy: 0.10261026102610261\n",
      "Epoch: 3, \tAccuracy: 0.2811857350654562, \tTest accuracy: 0.3132313231323132\n",
      "Epoch: 4, \tAccuracy: 0.37232281687315044, \tTest accuracy: 0.5958595859585959\n",
      "Epoch: 5, \tAccuracy: 0.4712845463209109, \tTest accuracy: 0.765976597659766\n",
      "Epoch: 6, \tAccuracy: 0.5132166323920349, \tTest accuracy: 0.7803780378037803\n",
      "Epoch: 7, \tAccuracy: 0.6230124893414255, \tTest accuracy: 0.8064806480648065\n",
      "Epoch: 8, \tAccuracy: 0.6870140943973516, \tTest accuracy: 0.8667866786678667\n",
      "Epoch: 9, \tAccuracy: 0.749109695540954, \tTest accuracy: 0.9144914491449145\n",
      "Epoch: 10, \tAccuracy: 0.804333651000652, \tTest accuracy: 0.9234923492349235\n",
      "Epoch: 11, \tAccuracy: 0.8514821688318203, \tTest accuracy: 0.9486948694869487\n",
      "Epoch: 12, \tAccuracy: 0.8895019310829112, \tTest accuracy: 0.9477947794779478\n",
      "Epoch: 13, \tAccuracy: 0.9199478356823996, \tTest accuracy: 0.936993699369937\n",
      "Epoch: 14, \tAccuracy: 0.9395596127802578, \tTest accuracy: 0.9252925292529253\n",
      "Epoch: 15, \tAccuracy: 0.9463811004664694, \tTest accuracy: 0.9234923492349235\n",
      "Epoch: 16, \tAccuracy: 0.958419019912725, \tTest accuracy: 0.9252925292529253\n",
      "Epoch: 17, \tAccuracy: 0.9644881376335457, \tTest accuracy: 0.927992799279928\n",
      "Epoch: 18, \tAccuracy: 0.9676982494858806, \tTest accuracy: 0.9270927092709271\n",
      "Epoch: 19, \tAccuracy: 0.9684506194512715, \tTest accuracy: 0.9288928892889289\n",
      "Epoch: 20, \tAccuracy: 0.9718613632943773, \tTest accuracy: 0.927992799279928\n",
      "Epoch: 21, \tAccuracy: 0.974720369162863, \tTest accuracy: 0.9261926192619262\n",
      "Epoch: 22, \tAccuracy: 0.9740181571951648, \tTest accuracy: 0.9225922592259226\n",
      "Epoch: 23, \tAccuracy: 0.9770276370567287, \tTest accuracy: 0.9207920792079208\n",
      "Epoch: 24, \tAccuracy: 0.9789837989667453, \tTest accuracy: 0.9216921692169217\n",
      "best performance on train: 0.9789837989667453, test: 0.9486948694869487\n"
     ]
    },
    {
     "data": {
      "image/png": "[encoded data removed]",
      "text/plain": [
       "<Figure size 640x480 with 1 Axes>"
      ]
     },
     "metadata": {},
     "output_type": "display_data"
    },
    {
     "name": "stdout",
     "output_type": "stream",
     "text": [
      "Doing for:  20 1\n",
      "model uploaded\n",
      "Epoch: 0, \tAccuracy: 0.09630335557004564, \tTest accuracy: 0.036003600360036005\n",
      "Epoch: 1, \tAccuracy: 0.12985905602648343, \tTest accuracy: 0.043204320432043204\n",
      "Epoch: 2, \tAccuracy: 0.16687565832371973, \tTest accuracy: 0.31863186318631864\n",
      "Epoch: 3, \tAccuracy: 0.21959171389878115, \tTest accuracy: 0.387038703870387\n",
      "Epoch: 4, \tAccuracy: 0.295831870391734, \tTest accuracy: 0.5031503150315032\n",
      "Epoch: 5, \tAccuracy: 0.3871194261925064, \tTest accuracy: 0.48514851485148514\n",
      "Epoch: 6, \tAccuracy: 0.45097055725535434, \tTest accuracy: 0.7245724572457246\n",
      "Epoch: 7, \tAccuracy: 0.5390981592014846, \tTest accuracy: 0.8370837083708371\n",
      "Epoch: 8, \tAccuracy: 0.6199026934844761, \tTest accuracy: 0.8406840684068407\n",
      "Epoch: 9, \tAccuracy: 0.6807945026834529, \tTest accuracy: 0.8343834383438344\n",
      "Epoch: 10, \tAccuracy: 0.7394292019862567, \tTest accuracy: 0.8397839783978398\n",
      "Epoch: 11, \tAccuracy: 0.7834679239604755, \tTest accuracy: 0.8577857785778578\n",
      "Epoch: 12, \tAccuracy: 0.8248984300546722, \tTest accuracy: 0.9063906390639064\n",
      "Epoch: 13, \tAccuracy: 0.8616642423634449, \tTest accuracy: 0.9297929792979298\n",
      "Epoch: 14, \tAccuracy: 0.893665044891408, \tTest accuracy: 0.9045904590459046\n",
      "Epoch: 15, \tAccuracy: 0.9063550183076692, \tTest accuracy: 0.9225922592259226\n",
      "Epoch: 16, \tAccuracy: 0.923609369513969, \tTest accuracy: 0.936993699369937\n",
      "Epoch: 17, \tAccuracy: 0.9342930230225209, \tTest accuracy: 0.9360936093609361\n",
      "Epoch: 18, \tAccuracy: 0.9472337864272459, \tTest accuracy: 0.9387938793879388\n",
      "Epoch: 19, \tAccuracy: 0.9519987962080554, \tTest accuracy: 0.9351935193519352\n",
      "Epoch: 20, \tAccuracy: 0.9557606460350103, \tTest accuracy: 0.9333933393339334\n",
      "Epoch: 21, \tAccuracy: 0.9594221798665797, \tTest accuracy: 0.9315931593159316\n",
      "Epoch: 22, \tAccuracy: 0.9631840296935347, \tTest accuracy: 0.9360936093609361\n",
      "Epoch: 23, \tAccuracy: 0.9637357676681547, \tTest accuracy: 0.9342934293429342\n",
      "Epoch: 24, \tAccuracy: 0.9677484074835733, \tTest accuracy: 0.9342934293429342\n",
      "best performance on train: 0.9677484074835733, test: 0.9387938793879388\n"
     ]
    },
    {
     "data": {
      "image/png": "[encoded data removed]",
      "text/plain": [
       "<Figure size 640x480 with 1 Axes>"
      ]
     },
     "metadata": {},
     "output_type": "display_data"
    },
    {
     "name": "stdout",
     "output_type": "stream",
     "text": [
      "Doing for:  15 10\n",
      "model uploaded\n",
      "Epoch: 0, \tAccuracy: 0.0626473391182224, \tTest accuracy: 0.1485148514851485\n",
      "Epoch: 1, \tAccuracy: 0.09464814164618549, \tTest accuracy: 0.07200720072007201\n",
      "Epoch: 2, \tAccuracy: 0.17941515774690275, \tTest accuracy: 0.081008100810081\n",
      "Epoch: 3, \tAccuracy: 0.21768570998645734, \tTest accuracy: 0.10081008100810081\n",
      "Epoch: 4, \tAccuracy: 0.26643928374379294, \tTest accuracy: 0.23492349234923493\n",
      "Epoch: 5, \tAccuracy: 0.32050960525655814, \tTest accuracy: 0.40504050405040504\n",
      "Epoch: 6, \tAccuracy: 0.38501279028941165, \tTest accuracy: 0.5652565256525652\n",
      "Epoch: 7, \tAccuracy: 0.4532276671515273, \tTest accuracy: 0.6075607560756076\n",
      "Epoch: 8, \tAccuracy: 0.5197873300897828, \tTest accuracy: 0.738973897389739\n",
      "Epoch: 9, \tAccuracy: 0.6014947083312434, \tTest accuracy: 0.891989198919892\n",
      "Epoch: 10, \tAccuracy: 0.6904749962381501, \tTest accuracy: 0.9000900090009001\n",
      "Epoch: 11, \tAccuracy: 0.748909063550183, \tTest accuracy: 0.9063906390639064\n",
      "Epoch: 12, \tAccuracy: 0.7965591613582785, \tTest accuracy: 0.8973897389738974\n",
      "Epoch: 13, \tAccuracy: 0.8302653358077946, \tTest accuracy: 0.8955895589558955\n",
      "Epoch: 14, \tAccuracy: 0.8580528665295681, \tTest accuracy: 0.9000900090009001\n",
      "Epoch: 15, \tAccuracy: 0.8755078497266389, \tTest accuracy: 0.8937893789378938\n",
      "Epoch: 16, \tAccuracy: 0.8820785474243868, \tTest accuracy: 0.8991899189918992\n",
      "Epoch: 17, \tAccuracy: 0.8951697848221899, \tTest accuracy: 0.9234923492349235\n",
      "Epoch: 18, \tAccuracy: 0.9138787179615789, \tTest accuracy: 0.9351935193519352\n",
      "Epoch: 19, \tAccuracy: 0.9323870191101972, \tTest accuracy: 0.9378937893789379\n",
      "Epoch: 20, \tAccuracy: 0.94327130460952, \tTest accuracy: 0.9351935193519352\n",
      "Epoch: 21, \tAccuracy: 0.9459798364849276, \tTest accuracy: 0.9396939693969397\n",
      "Epoch: 22, \tAccuracy: 0.947935998394944, \tTest accuracy: 0.9387938793879388\n",
      "Epoch: 23, \tAccuracy: 0.9536038521342228, \tTest accuracy: 0.9441944194419442\n",
      "Epoch: 24, \tAccuracy: 0.9580177559311832, \tTest accuracy: 0.9432943294329433\n",
      "best performance on train: 0.9580177559311832, test: 0.9441944194419442\n"
     ]
    },
    {
     "data": {
      "image/png": "[encoded data removed]",
      "text/plain": [
       "<Figure size 640x480 with 1 Axes>"
      ]
     },
     "metadata": {},
     "output_type": "display_data"
    },
    {
     "name": "stdout",
     "output_type": "stream",
     "text": [
      "Doing for:  15 6\n",
      "model uploaded\n",
      "Epoch: 0, \tAccuracy: 0.0693685108090485, \tTest accuracy: 0.13681368136813682\n",
      "Epoch: 1, \tAccuracy: 0.12062998445102072, \tTest accuracy: 0.036003600360036005\n",
      "Epoch: 2, \tAccuracy: 0.15057430907358177, \tTest accuracy: 0.036003600360036005\n",
      "Epoch: 3, \tAccuracy: 0.21146611827255857, \tTest accuracy: 0.6003600360036003\n",
      "Epoch: 4, \tAccuracy: 0.32582635301198776, \tTest accuracy: 0.495949594959496\n",
      "Epoch: 5, \tAccuracy: 0.41064352711039775, \tTest accuracy: 0.5481548154815482\n",
      "Epoch: 6, \tAccuracy: 0.4949591212318804, \tTest accuracy: 0.7614761476147615\n",
      "Epoch: 7, \tAccuracy: 0.5824848272056979, \tTest accuracy: 0.7470747074707471\n",
      "Epoch: 8, \tAccuracy: 0.6506495460701209, \tTest accuracy: 0.8298829882988299\n",
      "Epoch: 9, \tAccuracy: 0.6985002758689873, \tTest accuracy: 0.8631863186318632\n",
      "Epoch: 10, \tAccuracy: 0.747604955610172, \tTest accuracy: 0.8460846084608461\n",
      "Epoch: 11, \tAccuracy: 0.7898881476651453, \tTest accuracy: 0.8586858685868587\n",
      "Epoch: 12, \tAccuracy: 0.8188794703315444, \tTest accuracy: 0.8973897389738974\n",
      "Epoch: 13, \tAccuracy: 0.8448111551386869, \tTest accuracy: 0.9261926192619262\n",
      "Epoch: 14, \tAccuracy: 0.8682349400611927, \tTest accuracy: 0.9432943294329433\n",
      "Epoch: 15, \tAccuracy: 0.8911069870090786, \tTest accuracy: 0.9441944194419442\n",
      "Epoch: 16, \tAccuracy: 0.9091638661784621, \tTest accuracy: 0.9441944194419442\n",
      "Epoch: 17, \tAccuracy: 0.9272207453478457, \tTest accuracy: 0.946894689468947\n",
      "Epoch: 18, \tAccuracy: 0.9418668806741235, \tTest accuracy: 0.9441944194419442\n",
      "Epoch: 19, \tAccuracy: 0.9526006921803681, \tTest accuracy: 0.945994599459946\n",
      "Epoch: 20, \tAccuracy: 0.9596228118573507, \tTest accuracy: 0.9414941494149415\n",
      "Epoch: 21, \tAccuracy: 0.9628830817073782, \tTest accuracy: 0.9450945094509451\n",
      "Epoch: 22, \tAccuracy: 0.9655916135827858, \tTest accuracy: 0.9414941494149415\n",
      "Epoch: 23, \tAccuracy: 0.9679991974720369, \tTest accuracy: 0.9432943294329433\n",
      "Epoch: 24, \tAccuracy: 0.9712093093243718, \tTest accuracy: 0.9396939693969397\n",
      "best performance on train: 0.9712093093243718, test: 0.946894689468947\n"
     ]
    },
    {
     "data": {
      "image/png": "[encoded data removed]",
      "text/plain": [
       "<Figure size 640x480 with 1 Axes>"
      ]
     },
     "metadata": {},
     "output_type": "display_data"
    },
    {
     "name": "stdout",
     "output_type": "stream",
     "text": [
      "Doing for:  15 3\n",
      "model uploaded\n",
      "Epoch: 0, \tAccuracy: 0.06074133520589858, \tTest accuracy: 0.021602160216021602\n",
      "Epoch: 1, \tAccuracy: 0.09274213773386167, \tTest accuracy: 0.07920792079207921\n",
      "Epoch: 2, \tAccuracy: 0.17936499974921002, \tTest accuracy: 0.1467146714671467\n",
      "Epoch: 3, \tAccuracy: 0.19521492702011337, \tTest accuracy: 0.2304230423042304\n",
      "Epoch: 4, \tAccuracy: 0.2766715152731103, \tTest accuracy: 0.4608460846084608\n",
      "Epoch: 5, \tAccuracy: 0.3754326127300998, \tTest accuracy: 0.5418541854185418\n",
      "Epoch: 6, \tAccuracy: 0.4536289311330692, \tTest accuracy: 0.7074707470747075\n",
      "Epoch: 7, \tAccuracy: 0.5677885338817275, \tTest accuracy: 0.8253825382538253\n",
      "Epoch: 8, \tAccuracy: 0.6408185785223454, \tTest accuracy: 0.8883888388838884\n",
      "Epoch: 9, \tAccuracy: 0.7136479911721924, \tTest accuracy: 0.9117911791179117\n",
      "Epoch: 10, \tAccuracy: 0.7780007022119677, \tTest accuracy: 0.8964896489648965\n",
      "Epoch: 11, \tAccuracy: 0.8406981993278828, \tTest accuracy: 0.9000900090009001\n",
      "Epoch: 12, \tAccuracy: 0.8711441039273712, \tTest accuracy: 0.9414941494149415\n",
      "Epoch: 13, \tAccuracy: 0.9062547023122837, \tTest accuracy: 0.9396939693969397\n",
      "Epoch: 14, \tAccuracy: 0.9248633194562873, \tTest accuracy: 0.9360936093609361\n",
      "Epoch: 15, \tAccuracy: 0.9425189346441291, \tTest accuracy: 0.9198919891989199\n",
      "Epoch: 16, \tAccuracy: 0.957114911972714, \tTest accuracy: 0.927992799279928\n",
      "Epoch: 17, \tAccuracy: 0.963484977679691, \tTest accuracy: 0.9324932493249325\n",
      "Epoch: 18, \tAccuracy: 0.9702061493705171, \tTest accuracy: 0.9396939693969397\n",
      "Epoch: 19, \tAccuracy: 0.975673371119025, \tTest accuracy: 0.9495949594959496\n",
      "Epoch: 20, \tAccuracy: 0.9795355369413653, \tTest accuracy: 0.9504950495049505\n",
      "Epoch: 21, \tAccuracy: 0.9793349049505944, \tTest accuracy: 0.946894689468947\n",
      "Epoch: 22, \tAccuracy: 0.9819431208306164, \tTest accuracy: 0.9531953195319532\n",
      "Epoch: 23, \tAccuracy: 0.9833977027637056, \tTest accuracy: 0.9513951395139514\n",
      "Epoch: 24, \tAccuracy: 0.9836484927521694, \tTest accuracy: 0.946894689468947\n",
      "best performance on train: 0.9836484927521694, test: 0.9531953195319532\n"
     ]
    },
    {
     "data": {
      "image/png": "[encoded data removed]",
      "text/plain": [
       "<Figure size 640x480 with 1 Axes>"
      ]
     },
     "metadata": {},
     "output_type": "display_data"
    },
    {
     "name": "stdout",
     "output_type": "stream",
     "text": [
      "Doing for:  15 1\n",
      "model uploaded\n",
      "Epoch: 0, \tAccuracy: 0.06696092691979737, \tTest accuracy: 0.0999099909990999\n",
      "Epoch: 1, \tAccuracy: 0.10999648894016151, \tTest accuracy: 0.0999099909990999\n",
      "Epoch: 2, \tAccuracy: 0.13587801574961128, \tTest accuracy: 0.10531053105310531\n",
      "Epoch: 3, \tAccuracy: 0.23213121332196418, \tTest accuracy: 0.2304230423042304\n",
      "Epoch: 4, \tAccuracy: 0.3161960174549832, \tTest accuracy: 0.27182718271827183\n",
      "Epoch: 5, \tAccuracy: 0.3795455685409038, \tTest accuracy: 0.27362736273627364\n",
      "Epoch: 6, \tAccuracy: 0.43005467221748506, \tTest accuracy: 0.38163816381638166\n",
      "Epoch: 7, \tAccuracy: 0.4088378391934594, \tTest accuracy: 0.6246624662466247\n",
      "Epoch: 8, \tAccuracy: 0.5514370266338968, \tTest accuracy: 0.6822682268226823\n",
      "Epoch: 9, \tAccuracy: 0.5662837939509455, \tTest accuracy: 0.7992799279927992\n",
      "Epoch: 10, \tAccuracy: 0.6510508100516628, \tTest accuracy: 0.8631863186318632\n",
      "Epoch: 11, \tAccuracy: 0.7051712895621207, \tTest accuracy: 0.8721872187218722\n",
      "Epoch: 12, \tAccuracy: 0.7464513216632392, \tTest accuracy: 0.8775877587758776\n",
      "Epoch: 13, \tAccuracy: 0.816522044439986, \tTest accuracy: 0.9072907290729073\n",
      "Epoch: 14, \tAccuracy: 0.8474695290164017, \tTest accuracy: 0.9162916291629163\n",
      "Epoch: 15, \tAccuracy: 0.870792997943522, \tTest accuracy: 0.9252925292529253\n",
      "Epoch: 16, \tAccuracy: 0.8905050910367658, \tTest accuracy: 0.9342934293429342\n",
      "Epoch: 17, \tAccuracy: 0.9099663941415459, \tTest accuracy: 0.954995499549955\n",
      "Epoch: 18, \tAccuracy: 0.9286753272809349, \tTest accuracy: 0.9450945094509451\n",
      "Epoch: 19, \tAccuracy: 0.9382053468425541, \tTest accuracy: 0.9477947794779478\n",
      "Epoch: 20, \tAccuracy: 0.9507448462657371, \tTest accuracy: 0.9567956795679567\n",
      "Epoch: 21, \tAccuracy: 0.9576666499473341, \tTest accuracy: 0.9612961296129613\n",
      "Epoch: 22, \tAccuracy: 0.963484977679691, \tTest accuracy: 0.9567956795679567\n",
      "Epoch: 23, \tAccuracy: 0.9655916135827858, \tTest accuracy: 0.9531953195319532\n",
      "Epoch: 24, \tAccuracy: 0.9731654712343883, \tTest accuracy: 0.9531953195319532\n",
      "best performance on train: 0.9731654712343883, test: 0.9612961296129613\n"
     ]
    },
    {
     "data": {
      "image/png": "[encoded data removed]",
      "text/plain": [
       "<Figure size 640x480 with 1 Axes>"
      ]
     },
     "metadata": {},
     "output_type": "display_data"
    },
    {
     "name": "stdout",
     "output_type": "stream",
     "text": [
      "Doing for:  10 6\n",
      "model uploaded\n",
      "Epoch: 0, \tAccuracy: 0.08812760194613031, \tTest accuracy: 0.036003600360036005\n",
      "Epoch: 1, \tAccuracy: 0.1270000501579977, \tTest accuracy: 0.0594059405940594\n",
      "Epoch: 2, \tAccuracy: 0.21828760595877011, \tTest accuracy: 0.31863186318631864\n",
      "Epoch: 3, \tAccuracy: 0.285900586848573, \tTest accuracy: 0.3609360936093609\n",
      "Epoch: 4, \tAccuracy: 0.31915533931885437, \tTest accuracy: 0.37443744374437443\n",
      "Epoch: 5, \tAccuracy: 0.4000100315995386, \tTest accuracy: 0.576957695769577\n",
      "Epoch: 6, \tAccuracy: 0.4838240457440939, \tTest accuracy: 0.5778577857785778\n",
      "Epoch: 7, \tAccuracy: 0.552339870592366, \tTest accuracy: 0.6768676867686768\n",
      "Epoch: 8, \tAccuracy: 0.6107739379043988, \tTest accuracy: 0.873087308730873\n",
      "Epoch: 9, \tAccuracy: 0.695942217986658, \tTest accuracy: 0.8955895589558955\n",
      "Epoch: 10, \tAccuracy: 0.7541756533079199, \tTest accuracy: 0.90999099909991\n",
      "Epoch: 11, \tAccuracy: 0.7985153232682951, \tTest accuracy: 0.9243924392439244\n",
      "Epoch: 12, \tAccuracy: 0.8470181070371671, \tTest accuracy: 0.946894689468947\n",
      "Epoch: 13, \tAccuracy: 0.8779154336158901, \tTest accuracy: 0.9405940594059405\n",
      "Epoch: 14, \tAccuracy: 0.9017404825199378, \tTest accuracy: 0.9414941494149415\n",
      "Epoch: 15, \tAccuracy: 0.9239604754978181, \tTest accuracy: 0.9432943294329433\n",
      "Epoch: 16, \tAccuracy: 0.9413653006971962, \tTest accuracy: 0.9432943294329433\n",
      "Epoch: 17, \tAccuracy: 0.954506696092692, \tTest accuracy: 0.9495949594959496\n",
      "Epoch: 18, \tAccuracy: 0.9628329237096855, \tTest accuracy: 0.9486948694869487\n",
      "Epoch: 19, \tAccuracy: 0.967046195515875, \tTest accuracy: 0.9423942394239424\n",
      "Epoch: 20, \tAccuracy: 0.9725134172643828, \tTest accuracy: 0.9351935193519352\n",
      "Epoch: 21, \tAccuracy: 0.9740683151928575, \tTest accuracy: 0.9306930693069307\n",
      "Epoch: 22, \tAccuracy: 0.9803882229021418, \tTest accuracy: 0.9315931593159316\n",
      "Epoch: 23, \tAccuracy: 0.9823945428098511, \tTest accuracy: 0.9252925292529253\n",
      "Epoch: 24, \tAccuracy: 0.9839494407383257, \tTest accuracy: 0.9261926192619262\n",
      "best performance on train: 0.9839494407383257, test: 0.9495949594959496\n"
     ]
    },
    {
     "data": {
      "image/png": "[encoded data removed]",
      "text/plain": [
       "<Figure size 640x480 with 1 Axes>"
      ]
     },
     "metadata": {},
     "output_type": "display_data"
    },
    {
     "name": "stdout",
     "output_type": "stream",
     "text": [
      "Doing for:  10 3\n",
      "model uploaded\n",
      "Epoch: 0, \tAccuracy: 0.07729347444450017, \tTest accuracy: 0.0999099909990999\n",
      "Epoch: 1, \tAccuracy: 0.1184230325525405, \tTest accuracy: 0.1332133213321332\n",
      "Epoch: 2, \tAccuracy: 0.18533380147464512, \tTest accuracy: 0.0999099909990999\n",
      "Epoch: 3, \tAccuracy: 0.2546521542860009, \tTest accuracy: 0.22142214221422143\n",
      "Epoch: 4, \tAccuracy: 0.3378141144605507, \tTest accuracy: 0.49504950495049505\n",
      "Epoch: 5, \tAccuracy: 0.41580980087274916, \tTest accuracy: 0.5796579657965797\n",
      "Epoch: 6, \tAccuracy: 0.4905953754326127, \tTest accuracy: 0.6183618361836184\n",
      "Epoch: 7, \tAccuracy: 0.5694437478055876, \tTest accuracy: 0.846984698469847\n",
      "Epoch: 8, \tAccuracy: 0.6710638511310628, \tTest accuracy: 0.9036903690369037\n",
      "Epoch: 9, \tAccuracy: 0.7353162461754527, \tTest accuracy: 0.9297929792979298\n",
      "Epoch: 10, \tAccuracy: 0.7991673772383007, \tTest accuracy: 0.9225922592259226\n",
      "Epoch: 11, \tAccuracy: 0.8399458293624918, \tTest accuracy: 0.9396939693969397\n",
      "Epoch: 12, \tAccuracy: 0.8741034257912424, \tTest accuracy: 0.9603960396039604\n",
      "Epoch: 13, \tAccuracy: 0.9007874805637759, \tTest accuracy: 0.9504950495049505\n",
      "Epoch: 14, \tAccuracy: 0.9288759592717059, \tTest accuracy: 0.9396939693969397\n",
      "Epoch: 15, \tAccuracy: 0.9403621407433416, \tTest accuracy: 0.936993699369937\n",
      "Epoch: 16, \tAccuracy: 0.9515975322265136, \tTest accuracy: 0.9396939693969397\n",
      "Epoch: 17, \tAccuracy: 0.9616792897627526, \tTest accuracy: 0.9432943294329433\n",
      "Epoch: 18, \tAccuracy: 0.9658424035712494, \tTest accuracy: 0.9450945094509451\n",
      "Epoch: 19, \tAccuracy: 0.970607413352059, \tTest accuracy: 0.9450945094509451\n",
      "Epoch: 20, \tAccuracy: 0.9715604153082209, \tTest accuracy: 0.946894689468947\n",
      "Epoch: 21, \tAccuracy: 0.973967999197472, \tTest accuracy: 0.945994599459946\n",
      "Epoch: 22, \tAccuracy: 0.9756232131213322, \tTest accuracy: 0.945994599459946\n",
      "Epoch: 23, \tAccuracy: 0.9774790590359633, \tTest accuracy: 0.9396939693969397\n",
      "Epoch: 24, \tAccuracy: 0.9828459647890856, \tTest accuracy: 0.9414941494149415\n",
      "best performance on train: 0.9828459647890856, test: 0.9603960396039604\n"
     ]
    },
    {
     "data": {
      "image/png": "[encoded data removed]",
      "text/plain": [
       "<Figure size 640x480 with 1 Axes>"
      ]
     },
     "metadata": {},
     "output_type": "display_data"
    },
    {
     "name": "stdout",
     "output_type": "stream",
     "text": [
      "Doing for:  10 1\n",
      "model uploaded\n",
      "Epoch: 0, \tAccuracy: 0.0664091889451773, \tTest accuracy: 0.10711071107110712\n",
      "Epoch: 1, \tAccuracy: 0.12569594221798666, \tTest accuracy: 0.036003600360036005\n",
      "Epoch: 2, \tAccuracy: 0.14049255153734264, \tTest accuracy: 0.24662466246624662\n",
      "Epoch: 3, \tAccuracy: 0.17846215579074085, \tTest accuracy: 0.41314131413141314\n",
      "Epoch: 4, \tAccuracy: 0.2813863670562271, \tTest accuracy: 0.35193519351935193\n",
      "Epoch: 5, \tAccuracy: 0.3625420073230677, \tTest accuracy: 0.38883888388838883\n",
      "Epoch: 6, \tAccuracy: 0.41159652906655964, \tTest accuracy: 0.39063906390639064\n",
      "Epoch: 7, \tAccuracy: 0.47625018809249137, \tTest accuracy: 0.44374437443744374\n",
      "Epoch: 8, \tAccuracy: 0.5195866980990119, \tTest accuracy: 0.5922592259225923\n",
      "Epoch: 9, \tAccuracy: 0.5773687114410393, \tTest accuracy: 0.6750675067506751\n",
      "Epoch: 10, \tAccuracy: 0.6205547474544816, \tTest accuracy: 0.6678667866786678\n",
      "Epoch: 11, \tAccuracy: 0.6631890454933039, \tTest accuracy: 0.8406840684068407\n",
      "Epoch: 12, \tAccuracy: 0.7091839293775393, \tTest accuracy: 0.8451845184518452\n",
      "Epoch: 13, \tAccuracy: 0.7490595375432613, \tTest accuracy: 0.8568856885688569\n",
      "Epoch: 14, \tAccuracy: 0.791041781612078, \tTest accuracy: 0.9036903690369037\n",
      "Epoch: 15, \tAccuracy: 0.8251492200431358, \tTest accuracy: 0.8937893789378938\n",
      "Epoch: 16, \tAccuracy: 0.8517831168179766, \tTest accuracy: 0.9153915391539154\n",
      "Epoch: 17, \tAccuracy: 0.8775141696343483, \tTest accuracy: 0.9441944194419442\n",
      "Epoch: 18, \tAccuracy: 0.9051512263630436, \tTest accuracy: 0.9495949594959496\n",
      "Epoch: 19, \tAccuracy: 0.9133771379846517, \tTest accuracy: 0.9441944194419442\n",
      "Epoch: 20, \tAccuracy: 0.9274213773386166, \tTest accuracy: 0.9414941494149415\n",
      "Epoch: 21, \tAccuracy: 0.937854240858705, \tTest accuracy: 0.9486948694869487\n",
      "Epoch: 22, \tAccuracy: 0.9486382103626423, \tTest accuracy: 0.9441944194419442\n",
      "Epoch: 23, \tAccuracy: 0.9568139639865576, \tTest accuracy: 0.945994599459946\n",
      "Epoch: 24, \tAccuracy: 0.9636856096704619, \tTest accuracy: 0.9378937893789379\n",
      "best performance on train: 0.9636856096704619, test: 0.9495949594959496\n"
     ]
    },
    {
     "data": {
      "image/png": "[encoded data removed]",
      "text/plain": [
       "<Figure size 640x480 with 1 Axes>"
      ]
     },
     "metadata": {},
     "output_type": "display_data"
    },
    {
     "name": "stdout",
     "output_type": "stream",
     "text": [
      "Doing for:  5 3\n",
      "model uploaded\n",
      "Epoch: 0, \tAccuracy: 0.07042182876059588, \tTest accuracy: 0.036003600360036005\n",
      "Epoch: 1, \tAccuracy: 0.13412248583036565, \tTest accuracy: 0.036003600360036005\n",
      "Epoch: 2, \tAccuracy: 0.16802929227065255, \tTest accuracy: 0.0558055805580558\n",
      "Epoch: 3, \tAccuracy: 0.23223152931734964, \tTest accuracy: 0.2709270927092709\n",
      "Epoch: 4, \tAccuracy: 0.30646536590259316, \tTest accuracy: 0.4671467146714671\n",
      "Epoch: 5, \tAccuracy: 0.36951396900235745, \tTest accuracy: 0.5121512151215122\n",
      "Epoch: 6, \tAccuracy: 0.44986708130611425, \tTest accuracy: 0.48334833483348333\n",
      "Epoch: 7, \tAccuracy: 0.5200882780759392, \tTest accuracy: 0.5931593159315932\n",
      "Epoch: 8, \tAccuracy: 0.5630235241009179, \tTest accuracy: 0.6381638163816382\n",
      "Epoch: 9, \tAccuracy: 0.6342980388222902, \tTest accuracy: 0.8055805580558055\n",
      "Epoch: 10, \tAccuracy: 0.6763805988864925, \tTest accuracy: 0.8145814581458146\n",
      "Epoch: 11, \tAccuracy: 0.73526608817776, \tTest accuracy: 0.8307830783078308\n",
      "Epoch: 12, \tAccuracy: 0.794051261473642, \tTest accuracy: 0.8676867686768677\n",
      "Epoch: 13, \tAccuracy: 0.8190299443246226, \tTest accuracy: 0.9351935193519352\n",
      "Epoch: 14, \tAccuracy: 0.8607613984049757, \tTest accuracy: 0.9522952295229523\n",
      "Epoch: 15, \tAccuracy: 0.8953202588152681, \tTest accuracy: 0.9405940594059405\n",
      "Epoch: 16, \tAccuracy: 0.9152831418969755, \tTest accuracy: 0.9306930693069307\n",
      "Epoch: 17, \tAccuracy: 0.9301299092140242, \tTest accuracy: 0.9414941494149415\n",
      "Epoch: 18, \tAccuracy: 0.9426192506395145, \tTest accuracy: 0.9513951395139514\n",
      "Epoch: 19, \tAccuracy: 0.9517981642172845, \tTest accuracy: 0.9477947794779478\n",
      "Epoch: 20, \tAccuracy: 0.9566634899934795, \tTest accuracy: 0.9441944194419442\n",
      "Epoch: 21, \tAccuracy: 0.9626322917189146, \tTest accuracy: 0.946894689468947\n",
      "Epoch: 22, \tAccuracy: 0.9656417715804785, \tTest accuracy: 0.945994599459946\n",
      "Epoch: 23, \tAccuracy: 0.9708080453428299, \tTest accuracy: 0.9450945094509451\n",
      "Epoch: 24, \tAccuracy: 0.970055675377439, \tTest accuracy: 0.9405940594059405\n",
      "best performance on train: 0.9708080453428299, test: 0.9522952295229523\n"
     ]
    },
    {
     "data": {
      "image/png": "[encoded data removed]",
      "text/plain": [
       "<Figure size 640x480 with 1 Axes>"
      ]
     },
     "metadata": {},
     "output_type": "display_data"
    },
    {
     "name": "stdout",
     "output_type": "stream",
     "text": [
      "Doing for:  5 1\n",
      "model uploaded\n",
      "Epoch: 0, \tAccuracy: 0.08225911621608066, \tTest accuracy: 0.021602160216021602\n",
      "Epoch: 1, \tAccuracy: 0.11190249285248532, \tTest accuracy: 0.036003600360036005\n",
      "Epoch: 2, \tAccuracy: 0.1320158499272709, \tTest accuracy: 0.12871287128712872\n",
      "Epoch: 3, \tAccuracy: 0.13161458594572906, \tTest accuracy: 0.0666066606660666\n",
      "Epoch: 4, \tAccuracy: 0.18939659928775643, \tTest accuracy: 0.12871287128712872\n",
      "Epoch: 5, \tAccuracy: 0.22179866579726137, \tTest accuracy: 0.26552655265526554\n",
      "Epoch: 6, \tAccuracy: 0.25364899433214627, \tTest accuracy: 0.3213321332133213\n",
      "Epoch: 7, \tAccuracy: 0.32286703114811655, \tTest accuracy: 0.32943294329432943\n",
      "Epoch: 8, \tAccuracy: 0.37447961077393793, \tTest accuracy: 0.5229522952295229\n",
      "Epoch: 9, \tAccuracy: 0.41089431709886143, \tTest accuracy: 0.6093609360936093\n",
      "Epoch: 10, \tAccuracy: 0.4524752971861363, \tTest accuracy: 0.5139513951395139\n",
      "Epoch: 11, \tAccuracy: 0.5011285549480865, \tTest accuracy: 0.5274527452745275\n",
      "Epoch: 12, \tAccuracy: 0.5348848873952952, \tTest accuracy: 0.5976597659765976\n",
      "Epoch: 13, \tAccuracy: 0.5815318252495361, \tTest accuracy: 0.6921692169216922\n",
      "Epoch: 14, \tAccuracy: 0.6206049054521744, \tTest accuracy: 0.7236723672367237\n",
      "Epoch: 15, \tAccuracy: 0.6584741937101871, \tTest accuracy: 0.7533753375337534\n",
      "Epoch: 16, \tAccuracy: 0.7003059637859257, \tTest accuracy: 0.7074707470747075\n",
      "Epoch: 17, \tAccuracy: 0.7370717760946983, \tTest accuracy: 0.8379837983798379\n",
      "Epoch: 18, \tAccuracy: 0.7743391683803983, \tTest accuracy: 0.8694869486948695\n",
      "Epoch: 19, \tAccuracy: 0.8087475547976125, \tTest accuracy: 0.8505850585058505\n",
      "Epoch: 20, \tAccuracy: 0.8422029392586647, \tTest accuracy: 0.9126912691269127\n",
      "Epoch: 21, \tAccuracy: 0.8660781461604052, \tTest accuracy: 0.927992799279928\n",
      "Epoch: 22, \tAccuracy: 0.8925615689421679, \tTest accuracy: 0.9108910891089109\n",
      "Epoch: 23, \tAccuracy: 0.8989817926468375, \tTest accuracy: 0.9450945094509451\n",
      "Epoch: 24, \tAccuracy: 0.915935195866981, \tTest accuracy: 0.9594959495949595\n",
      "best performance on train: 0.915935195866981, test: 0.9594959495949595\n"
     ]
    },
    {
     "data": {
      "image/png": "[encoded data removed]",
      "text/plain": [
       "<Figure size 640x480 with 1 Axes>"
      ]
     },
     "metadata": {},
     "output_type": "display_data"
    },
    {
     "name": "stdout",
     "output_type": "stream",
     "text": [
      "Doing for:  2 1\n",
      "model uploaded\n",
      "Epoch: 0, \tAccuracy: 0.08817775994382304, \tTest accuracy: 0.0999099909990999\n",
      "Epoch: 1, \tAccuracy: 0.1088930129909214, \tTest accuracy: 0.0999099909990999\n",
      "Epoch: 2, \tAccuracy: 0.13442343381652205, \tTest accuracy: 0.036003600360036005\n",
      "Epoch: 3, \tAccuracy: 0.14826704117971612, \tTest accuracy: 0.043204320432043204\n",
      "Epoch: 4, \tAccuracy: 0.15107588905050912, \tTest accuracy: 0.063006300630063\n",
      "Epoch: 5, \tAccuracy: 0.19486382103626423, \tTest accuracy: 0.15211521152115212\n",
      "Epoch: 6, \tAccuracy: 0.23313437327581882, \tTest accuracy: 0.1422142214221422\n",
      "Epoch: 7, \tAccuracy: 0.26874655163765865, \tTest accuracy: 0.11611161116111611\n",
      "Epoch: 8, \tAccuracy: 0.29327381250940465, \tTest accuracy: 0.21782178217821782\n",
      "Epoch: 9, \tAccuracy: 0.3390179064051763, \tTest accuracy: 0.35283528352835286\n",
      "Epoch: 10, \tAccuracy: 0.41064352711039775, \tTest accuracy: 0.38613861386138615\n",
      "Epoch: 11, \tAccuracy: 0.4871344735918142, \tTest accuracy: 0.44104410441044106\n",
      "Epoch: 12, \tAccuracy: 0.5443647489592216, \tTest accuracy: 0.5877587758775877\n",
      "Epoch: 13, \tAccuracy: 0.5933691127050208, \tTest accuracy: 0.5967596759675967\n",
      "Epoch: 14, \tAccuracy: 0.6390630486030998, \tTest accuracy: 0.8343834383438344\n",
      "Epoch: 15, \tAccuracy: 0.6895219942819882, \tTest accuracy: 0.7596759675967597\n",
      "Epoch: 16, \tAccuracy: 0.7224256407684205, \tTest accuracy: 0.7578757875787578\n",
      "Epoch: 17, \tAccuracy: 0.7524201233886744, \tTest accuracy: 0.7794779477947795\n",
      "Epoch: 18, \tAccuracy: 0.7832171339720119, \tTest accuracy: 0.8370837083708371\n",
      "Epoch: 19, \tAccuracy: 0.8175252043938406, \tTest accuracy: 0.9072907290729073\n",
      "Epoch: 20, \tAccuracy: 0.8568992325826353, \tTest accuracy: 0.9216921692169217\n",
      "Epoch: 21, \tAccuracy: 0.8853889752721071, \tTest accuracy: 0.9207920792079208\n",
      "Epoch: 22, \tAccuracy: 0.9004363745799268, \tTest accuracy: 0.9297929792979298\n",
      "Epoch: 23, \tAccuracy: 0.9151326679038972, \tTest accuracy: 0.9171917191719172\n",
      "Epoch: 24, \tAccuracy: 0.926418217384762, \tTest accuracy: 0.9324932493249325\n",
      "best performance on train: 0.926418217384762, test: 0.9324932493249325\n"
     ]
    },
    {
     "data": {
      "image/png": "[encoded data removed]",
      "text/plain": [
       "<Figure size 640x480 with 1 Axes>"
      ]
     },
     "metadata": {},
     "output_type": "display_data"
    }
   ],
   "source": [
    "for k1 in [30, 20, 15, 10, 5, 2]:\n",
    "    for k2 in [15, 10, 6, 3, 1]:\n",
    "        if k1 > k2:\n",
    "            print(\"Doing for: \", k1, k2)\n",
    "            train_fun(k1, k2, 0.009)"
   ]
  },
  {
   "cell_type": "code",
   "execution_count": null,
   "metadata": {},
   "outputs": [],
   "source": []
  }
 ],
 "metadata": {
  "colab": {
   "provenance": []
  },
  "kaggle": {
   "accelerator": "gpu",
   "dataSources": [
    {
     "datasetId": 4784136,
     "sourceId": 8101099,
     "sourceType": "datasetVersion"
    },
    {
     "datasetId": 4784494,
     "sourceId": 8101607,
     "sourceType": "datasetVersion"
    },
    {
     "datasetId": 4811138,
     "sourceId": 8138133,
     "sourceType": "datasetVersion"
    }
   ],
   "dockerImageVersionId": 30683,
   "isGpuEnabled": true,
   "isInternetEnabled": true,
   "language": "python",
   "sourceType": "notebook"
  },
  "kernelspec": {
   "display_name": "Python 3 (ipykernel)",
   "language": "python",
   "name": "python3"
  },
  "language_info": {
   "codemirror_mode": {
    "name": "ipython",
    "version": 3
   },
   "file_extension": ".py",
   "mimetype": "text/x-python",
   "name": "python",
   "nbconvert_exporter": "python",
   "pygments_lexer": "ipython3",
   "version": "3.10.9"
  }
 },
 "nbformat": 4,
 "nbformat_minor": 4
}
